{
  "nbformat": 4,
  "nbformat_minor": 5,
  "metadata": {
    "colab": {
      "provenance": [],
      "gpuType": "T4",
      "include_colab_link": true
    },
    "kernelspec": {
      "display_name": "Python 3",
      "name": "python3"
    },
    "language_info": {
      "codemirror_mode": {
        "name": "ipython",
        "version": 3
      },
      "file_extension": ".py",
      "mimetype": "text/x-python",
      "name": "python",
      "nbconvert_exporter": "python",
      "pygments_lexer": "ipython3",
      "version": "3.6.9"
    },
    "accelerator": "GPU"
  },
  "cells": [
    {
      "cell_type": "markdown",
      "metadata": {
        "id": "view-in-github",
        "colab_type": "text"
      },
      "source": [
        "<a href=\"https://colab.research.google.com/github/Amitgm/Image_Classification_traffic_Signs/blob/main/Amit_M3_NB_MiniProject_1_Image_Classification_MLP.ipynb\" target=\"_parent\"><img src=\"https://colab.research.google.com/assets/colab-badge.svg\" alt=\"Open In Colab\"/></a>"
      ]
    },
    {
      "cell_type": "markdown",
      "metadata": {
        "id": "another-optimum"
      },
      "source": [
        "# Advanced Certification Program in Computational Data Science\n",
        "\n",
        "##  A program by IISc and TalentSprint\n",
        "\n",
        "### Mini Project Notebook: Image Classification using Multi Layer Perceptron"
      ],
      "id": "another-optimum"
    },
    {
      "cell_type": "markdown",
      "metadata": {
        "id": "maritime-miami"
      },
      "source": [
        "## Learning Objectives"
      ],
      "id": "maritime-miami"
    },
    {
      "cell_type": "markdown",
      "metadata": {
        "id": "nljJR6CwfZN_"
      },
      "source": [
        "At the end of the experiment, you will be able to :\n",
        "\n",
        "* load and extract features of images\n",
        "\n",
        "* implement the Multi-Layer perceptron to classify images\n",
        "\n",
        "* implement simple neural network from keras"
      ],
      "id": "nljJR6CwfZN_"
    },
    {
      "cell_type": "markdown",
      "metadata": {
        "id": "29152de7"
      },
      "source": [
        "## Introduction\n",
        "\n",
        "Traffic sign recognition is a challenging, real-world problem relevant for AI based transportation systems. Traffic signs show a wide range of variations between classes in terms of color, shape, and the presence of pictograms or text. However, there exist subsets of\n",
        "classes (e.g., speed limit signs) that are very similar to each other. Further, the classifier\n",
        "has to be robust against large variations in visual appearances due to changes in illumination, partial\n",
        "occlusions, rotations, weather conditions etc. Using a comprehensive traffic sign detection dataset, here we will perform classification of traffic signs, train and evaluate the different models and compare to the performance of MLPs."
      ],
      "id": "29152de7"
    },
    {
      "cell_type": "markdown",
      "metadata": {
        "id": "58facc94"
      },
      "source": [
        "![img](https://paperswithcode.com/media/datasets/GTSRB-0000000633-9ce3c5f6_Dki5Rsf.jpg)"
      ],
      "id": "58facc94"
    },
    {
      "cell_type": "markdown",
      "metadata": {
        "id": "surprising-uruguay"
      },
      "source": [
        "## Dataset\n",
        "\n",
        "The data for this mini-project is from the German Traffic Sign Detection Benchmark [GTSDB](https://benchmark.ini.rub.de/gtsdb_dataset.html). This archive contains the training set used during the IJCNN 2013 competition.\n",
        "\n",
        "The German Traffic Sign Detection Benchmark is a single-image detection assessment for researchers with interest in the field of computer vision, pattern recognition and image-based driver assistance. It is introduced on the IEEE International Joint Conference on Neural Networks 2013.\n",
        "\n",
        "It features ...\n",
        "\n",
        "* The main archive FullIJCNN2013.zip includes the images (1360 x 800 pixels) in PPM format, the image sections containing only the traffic signs\n",
        "* A file in CSV format with the ground truth\n",
        "* A ReadMe.txt with more details.\n",
        "\n",
        "Note that we will be using the images inside the image sections subfolders, containing only the traffic signs."
      ],
      "id": "surprising-uruguay"
    },
    {
      "cell_type": "markdown",
      "metadata": {
        "id": "ih-oasWmdZul"
      },
      "source": [
        "## Problem Statement"
      ],
      "id": "ih-oasWmdZul"
    },
    {
      "cell_type": "markdown",
      "metadata": {
        "id": "qfWGmjNHdZul"
      },
      "source": [
        "To build and improve upon a machine learning model for the classification of images and achieve a high accuracy final model."
      ],
      "id": "qfWGmjNHdZul"
    },
    {
      "cell_type": "markdown",
      "metadata": {
        "id": "operating-latter"
      },
      "source": [
        "## Grading = 10 Points"
      ],
      "id": "operating-latter"
    },
    {
      "cell_type": "code",
      "metadata": {
        "id": "812a816f",
        "cellView": "form"
      },
      "source": [
        "#@title Download the data\n",
        "!wget -qq https://sid.erda.dk/public/archives/ff17dc924eba88d5d01a807357d6614c/FullIJCNN2013.zip\n",
        "!unzip -qq FullIJCNN2013.zip"
      ],
      "id": "812a816f",
      "execution_count": null,
      "outputs": []
    },
    {
      "cell_type": "markdown",
      "metadata": {
        "id": "abstract-stocks"
      },
      "source": [
        "### Import Required packages"
      ],
      "id": "abstract-stocks"
    },
    {
      "cell_type": "code",
      "metadata": {
        "id": "advisory-knowing"
      },
      "source": [
        "import pandas as pd\n",
        "import numpy as np\n",
        "from sklearn.model_selection import train_test_split\n",
        "import matplotlib.pyplot as plt\n",
        "from sklearn.neural_network import MLPClassifier\n",
        "from skimage.io import imread, imshow\n",
        "from sklearn import preprocessing\n",
        "import os, glob\n",
        "from PIL import Image\n",
        "from sklearn.model_selection import GridSearchCV\n",
        "# Keras\n",
        "import tensorflow as tf\n",
        "from tensorflow import keras\n",
        "from keras.models import Sequential\n",
        "from keras.layers import Dense, Dropout, BatchNormalization"
      ],
      "id": "advisory-knowing",
      "execution_count": null,
      "outputs": []
    },
    {
      "cell_type": "markdown",
      "metadata": {
        "id": "gp4bF_GJdZuo"
      },
      "source": [
        "### Data Loading and Feature Extraction (2 points)\n",
        "\n",
        "#### Get the features and labels of data\n",
        "\n",
        "* Extract the features of the images within image sections only (do not use images located outside these folders)\n",
        "* Extract labels of the images\n",
        "* Resize the images to (30, 30) and convert to numpy 1-D array\n",
        "\n",
        "   Hint: [Link](https://machinelearningmastery.com/how-to-load-and-manipulate-images-for-deep-learning-in-python-with-pil-pillow/)"
      ],
      "id": "gp4bF_GJdZuo"
    },
    {
      "cell_type": "code",
      "source": [
        "images = glob.glob(\"*/*/*.ppm\", recursive=True)"
      ],
      "metadata": {
        "id": "ohTQ9UMxSl8b"
      },
      "id": "ohTQ9UMxSl8b",
      "execution_count": null,
      "outputs": []
    },
    {
      "cell_type": "code",
      "source": [
        "images[8]"
      ],
      "metadata": {
        "colab": {
          "base_uri": "https://localhost:8080/",
          "height": 35
        },
        "id": "e0-iU-1RVJqm",
        "outputId": "8b674938-cff6-408c-b623-d2eed30f954a"
      },
      "id": "e0-iU-1RVJqm",
      "execution_count": null,
      "outputs": [
        {
          "output_type": "execute_result",
          "data": {
            "text/plain": [
              "'FullIJCNN2013/04/00042.ppm'"
            ],
            "application/vnd.google.colaboratory.intrinsic+json": {
              "type": "string"
            }
          },
          "metadata": {},
          "execution_count": 4
        }
      ]
    },
    {
      "cell_type": "code",
      "source": [
        "images[8].split(\"/\")[2].split(\".\")[0]"
      ],
      "metadata": {
        "colab": {
          "base_uri": "https://localhost:8080/",
          "height": 35
        },
        "id": "a5Hr4-ivWXi2",
        "outputId": "d41d60b6-81ca-480f-d47d-d91e175db898"
      },
      "id": "a5Hr4-ivWXi2",
      "execution_count": null,
      "outputs": [
        {
          "output_type": "execute_result",
          "data": {
            "text/plain": [
              "'00042'"
            ],
            "application/vnd.google.colaboratory.intrinsic+json": {
              "type": "string"
            }
          },
          "metadata": {},
          "execution_count": 5
        }
      ]
    },
    {
      "cell_type": "code",
      "metadata": {
        "id": "fc5c2362"
      },
      "source": [
        "# YOUR CODE HERE\n",
        "def convert_ppm_to_png():\n",
        "  for img in images:\n",
        "\n",
        "      test_from_img = img.split(\"/\")[1]\n",
        "      image_name = img.split(\"/\")[2].split(\".\")[0]\n",
        "\n",
        "      if not os.path.exists(\"images_in_png/{}\".format(test_from_img)):\n",
        "\n",
        "          os.makedirs(\"images_in_png/{}\".format(test_from_img))\n",
        "\n",
        "      img = Image.open(img)\n",
        "      img = img.resize((30, 30))\n",
        "\n",
        "      img.save(\"images_in_png/{}/{}.png\".format(test_from_img,image_name))\n"
      ],
      "id": "fc5c2362",
      "execution_count": null,
      "outputs": []
    },
    {
      "cell_type": "code",
      "source": [
        "convert_ppm_to_png()"
      ],
      "metadata": {
        "id": "lAR_LPgihZcf"
      },
      "id": "lAR_LPgihZcf",
      "execution_count": null,
      "outputs": []
    },
    {
      "cell_type": "markdown",
      "source": [
        "#### Reading the png images"
      ],
      "metadata": {
        "id": "GEDvsWkEpB-c"
      },
      "id": "GEDvsWkEpB-c"
    },
    {
      "cell_type": "code",
      "source": [
        "images_png = glob.glob(\"images_in_png/*/*.png\", recursive=True)"
      ],
      "metadata": {
        "id": "g3HFMwaQVYhf"
      },
      "id": "g3HFMwaQVYhf",
      "execution_count": null,
      "outputs": []
    },
    {
      "cell_type": "code",
      "source": [
        "images_png"
      ],
      "metadata": {
        "colab": {
          "base_uri": "https://localhost:8080/"
        },
        "id": "pGMDuOZlWZL0",
        "outputId": "cf9428a7-39c9-45b8-a94d-03db828bf732"
      },
      "id": "pGMDuOZlWZL0",
      "execution_count": null,
      "outputs": [
        {
          "output_type": "execute_result",
          "data": {
            "text/plain": [
              "['images_in_png/04/00052.png',\n",
              " 'images_in_png/04/00030.png',\n",
              " 'images_in_png/04/00046.png',\n",
              " 'images_in_png/04/00005.png',\n",
              " 'images_in_png/04/00048.png',\n",
              " 'images_in_png/04/00064.png',\n",
              " 'images_in_png/04/00003.png',\n",
              " 'images_in_png/04/00035.png',\n",
              " 'images_in_png/04/00060.png',\n",
              " 'images_in_png/04/00042.png',\n",
              " 'images_in_png/04/00024.png',\n",
              " 'images_in_png/04/00036.png',\n",
              " 'images_in_png/04/00022.png',\n",
              " 'images_in_png/04/00041.png',\n",
              " 'images_in_png/04/00067.png',\n",
              " 'images_in_png/04/00062.png',\n",
              " 'images_in_png/04/00023.png',\n",
              " 'images_in_png/04/00057.png',\n",
              " 'images_in_png/04/00010.png',\n",
              " 'images_in_png/04/00025.png',\n",
              " 'images_in_png/04/00043.png',\n",
              " 'images_in_png/04/00004.png',\n",
              " 'images_in_png/04/00034.png',\n",
              " 'images_in_png/04/00040.png',\n",
              " 'images_in_png/04/00026.png',\n",
              " 'images_in_png/04/00015.png',\n",
              " 'images_in_png/04/00056.png',\n",
              " 'images_in_png/04/00016.png',\n",
              " 'images_in_png/04/00061.png',\n",
              " 'images_in_png/04/00009.png',\n",
              " 'images_in_png/04/00017.png',\n",
              " 'images_in_png/04/00044.png',\n",
              " 'images_in_png/04/00054.png',\n",
              " 'images_in_png/04/00066.png',\n",
              " 'images_in_png/04/00013.png',\n",
              " 'images_in_png/04/00049.png',\n",
              " 'images_in_png/04/00002.png',\n",
              " 'images_in_png/04/00012.png',\n",
              " 'images_in_png/04/00039.png',\n",
              " 'images_in_png/04/00021.png',\n",
              " 'images_in_png/04/00055.png',\n",
              " 'images_in_png/04/00011.png',\n",
              " 'images_in_png/04/00051.png',\n",
              " 'images_in_png/04/00058.png',\n",
              " 'images_in_png/04/00029.png',\n",
              " 'images_in_png/04/00063.png',\n",
              " 'images_in_png/04/00014.png',\n",
              " 'images_in_png/04/00047.png',\n",
              " 'images_in_png/04/00027.png',\n",
              " 'images_in_png/04/00008.png',\n",
              " 'images_in_png/04/00007.png',\n",
              " 'images_in_png/04/00033.png',\n",
              " 'images_in_png/04/00019.png',\n",
              " 'images_in_png/04/00032.png',\n",
              " 'images_in_png/04/00018.png',\n",
              " 'images_in_png/04/00053.png',\n",
              " 'images_in_png/04/00001.png',\n",
              " 'images_in_png/04/00006.png',\n",
              " 'images_in_png/04/00037.png',\n",
              " 'images_in_png/04/00050.png',\n",
              " 'images_in_png/04/00000.png',\n",
              " 'images_in_png/04/00028.png',\n",
              " 'images_in_png/04/00031.png',\n",
              " 'images_in_png/04/00020.png',\n",
              " 'images_in_png/04/00038.png',\n",
              " 'images_in_png/04/00065.png',\n",
              " 'images_in_png/04/00059.png',\n",
              " 'images_in_png/04/00045.png',\n",
              " 'images_in_png/39/00005.png',\n",
              " 'images_in_png/39/00003.png',\n",
              " 'images_in_png/39/00004.png',\n",
              " 'images_in_png/39/00002.png',\n",
              " 'images_in_png/39/00001.png',\n",
              " 'images_in_png/39/00000.png',\n",
              " 'images_in_png/40/00005.png',\n",
              " 'images_in_png/40/00003.png',\n",
              " 'images_in_png/40/00004.png',\n",
              " 'images_in_png/40/00009.png',\n",
              " 'images_in_png/40/00002.png',\n",
              " 'images_in_png/40/00008.png',\n",
              " 'images_in_png/40/00007.png',\n",
              " 'images_in_png/40/00001.png',\n",
              " 'images_in_png/40/00006.png',\n",
              " 'images_in_png/40/00000.png',\n",
              " 'images_in_png/42/00005.png',\n",
              " 'images_in_png/42/00003.png',\n",
              " 'images_in_png/42/00010.png',\n",
              " 'images_in_png/42/00004.png',\n",
              " 'images_in_png/42/00009.png',\n",
              " 'images_in_png/42/00002.png',\n",
              " 'images_in_png/42/00008.png',\n",
              " 'images_in_png/42/00007.png',\n",
              " 'images_in_png/42/00001.png',\n",
              " 'images_in_png/42/00006.png',\n",
              " 'images_in_png/42/00000.png',\n",
              " 'images_in_png/37/00001.png',\n",
              " 'images_in_png/37/00000.png',\n",
              " 'images_in_png/06/00005.png',\n",
              " 'images_in_png/06/00003.png',\n",
              " 'images_in_png/06/00010.png',\n",
              " 'images_in_png/06/00004.png',\n",
              " 'images_in_png/06/00015.png',\n",
              " 'images_in_png/06/00016.png',\n",
              " 'images_in_png/06/00009.png',\n",
              " 'images_in_png/06/00017.png',\n",
              " 'images_in_png/06/00013.png',\n",
              " 'images_in_png/06/00002.png',\n",
              " 'images_in_png/06/00012.png',\n",
              " 'images_in_png/06/00011.png',\n",
              " 'images_in_png/06/00014.png',\n",
              " 'images_in_png/06/00008.png',\n",
              " 'images_in_png/06/00007.png',\n",
              " 'images_in_png/06/00018.png',\n",
              " 'images_in_png/06/00001.png',\n",
              " 'images_in_png/06/00006.png',\n",
              " 'images_in_png/06/00000.png',\n",
              " 'images_in_png/26/00005.png',\n",
              " 'images_in_png/26/00003.png',\n",
              " 'images_in_png/26/00010.png',\n",
              " 'images_in_png/26/00004.png',\n",
              " 'images_in_png/26/00015.png',\n",
              " 'images_in_png/26/00016.png',\n",
              " 'images_in_png/26/00009.png',\n",
              " 'images_in_png/26/00017.png',\n",
              " 'images_in_png/26/00013.png',\n",
              " 'images_in_png/26/00002.png',\n",
              " 'images_in_png/26/00012.png',\n",
              " 'images_in_png/26/00011.png',\n",
              " 'images_in_png/26/00014.png',\n",
              " 'images_in_png/26/00008.png',\n",
              " 'images_in_png/26/00007.png',\n",
              " 'images_in_png/26/00001.png',\n",
              " 'images_in_png/26/00006.png',\n",
              " 'images_in_png/26/00000.png',\n",
              " 'images_in_png/35/00005.png',\n",
              " 'images_in_png/35/00003.png',\n",
              " 'images_in_png/35/00010.png',\n",
              " 'images_in_png/35/00004.png',\n",
              " 'images_in_png/35/00015.png',\n",
              " 'images_in_png/35/00016.png',\n",
              " 'images_in_png/35/00009.png',\n",
              " 'images_in_png/35/00017.png',\n",
              " 'images_in_png/35/00013.png',\n",
              " 'images_in_png/35/00002.png',\n",
              " 'images_in_png/35/00012.png',\n",
              " 'images_in_png/35/00011.png',\n",
              " 'images_in_png/35/00014.png',\n",
              " 'images_in_png/35/00008.png',\n",
              " 'images_in_png/35/00007.png',\n",
              " 'images_in_png/35/00019.png',\n",
              " 'images_in_png/35/00018.png',\n",
              " 'images_in_png/35/00001.png',\n",
              " 'images_in_png/35/00006.png',\n",
              " 'images_in_png/35/00000.png',\n",
              " 'images_in_png/27/00002.png',\n",
              " 'images_in_png/27/00001.png',\n",
              " 'images_in_png/27/00000.png',\n",
              " 'images_in_png/14/00030.png',\n",
              " 'images_in_png/14/00005.png',\n",
              " 'images_in_png/14/00003.png',\n",
              " 'images_in_png/14/00024.png',\n",
              " 'images_in_png/14/00022.png',\n",
              " 'images_in_png/14/00023.png',\n",
              " 'images_in_png/14/00010.png',\n",
              " 'images_in_png/14/00025.png',\n",
              " 'images_in_png/14/00004.png',\n",
              " 'images_in_png/14/00026.png',\n",
              " 'images_in_png/14/00015.png',\n",
              " 'images_in_png/14/00016.png',\n",
              " 'images_in_png/14/00009.png',\n",
              " 'images_in_png/14/00017.png',\n",
              " 'images_in_png/14/00013.png',\n",
              " 'images_in_png/14/00002.png',\n",
              " 'images_in_png/14/00012.png',\n",
              " 'images_in_png/14/00021.png',\n",
              " 'images_in_png/14/00011.png',\n",
              " 'images_in_png/14/00029.png',\n",
              " 'images_in_png/14/00014.png',\n",
              " 'images_in_png/14/00027.png',\n",
              " 'images_in_png/14/00008.png',\n",
              " 'images_in_png/14/00007.png',\n",
              " 'images_in_png/14/00019.png',\n",
              " 'images_in_png/14/00018.png',\n",
              " 'images_in_png/14/00001.png',\n",
              " 'images_in_png/14/00006.png',\n",
              " 'images_in_png/14/00000.png',\n",
              " 'images_in_png/14/00028.png',\n",
              " 'images_in_png/14/00031.png',\n",
              " 'images_in_png/14/00020.png',\n",
              " 'images_in_png/15/00005.png',\n",
              " 'images_in_png/15/00003.png',\n",
              " 'images_in_png/15/00010.png',\n",
              " 'images_in_png/15/00004.png',\n",
              " 'images_in_png/15/00009.png',\n",
              " 'images_in_png/15/00013.png',\n",
              " 'images_in_png/15/00002.png',\n",
              " 'images_in_png/15/00012.png',\n",
              " 'images_in_png/15/00011.png',\n",
              " 'images_in_png/15/00014.png',\n",
              " 'images_in_png/15/00008.png',\n",
              " 'images_in_png/15/00007.png',\n",
              " 'images_in_png/15/00001.png',\n",
              " 'images_in_png/15/00006.png',\n",
              " 'images_in_png/15/00000.png',\n",
              " 'images_in_png/11/00030.png',\n",
              " 'images_in_png/11/00005.png',\n",
              " 'images_in_png/11/00003.png',\n",
              " 'images_in_png/11/00035.png',\n",
              " 'images_in_png/11/00024.png',\n",
              " 'images_in_png/11/00036.png',\n",
              " 'images_in_png/11/00022.png',\n",
              " 'images_in_png/11/00023.png',\n",
              " 'images_in_png/11/00010.png',\n",
              " 'images_in_png/11/00025.png',\n",
              " 'images_in_png/11/00004.png',\n",
              " 'images_in_png/11/00034.png',\n",
              " 'images_in_png/11/00026.png',\n",
              " 'images_in_png/11/00015.png',\n",
              " 'images_in_png/11/00016.png',\n",
              " 'images_in_png/11/00009.png',\n",
              " 'images_in_png/11/00017.png',\n",
              " 'images_in_png/11/00013.png',\n",
              " 'images_in_png/11/00002.png',\n",
              " 'images_in_png/11/00012.png',\n",
              " 'images_in_png/11/00021.png',\n",
              " 'images_in_png/11/00011.png',\n",
              " 'images_in_png/11/00029.png',\n",
              " 'images_in_png/11/00014.png',\n",
              " 'images_in_png/11/00027.png',\n",
              " 'images_in_png/11/00008.png',\n",
              " 'images_in_png/11/00007.png',\n",
              " 'images_in_png/11/00033.png',\n",
              " 'images_in_png/11/00019.png',\n",
              " 'images_in_png/11/00032.png',\n",
              " 'images_in_png/11/00018.png',\n",
              " 'images_in_png/11/00001.png',\n",
              " 'images_in_png/11/00006.png',\n",
              " 'images_in_png/11/00037.png',\n",
              " 'images_in_png/11/00000.png',\n",
              " 'images_in_png/11/00028.png',\n",
              " 'images_in_png/11/00031.png',\n",
              " 'images_in_png/11/00020.png',\n",
              " 'images_in_png/08/00052.png',\n",
              " 'images_in_png/08/00030.png',\n",
              " 'images_in_png/08/00046.png',\n",
              " 'images_in_png/08/00005.png',\n",
              " 'images_in_png/08/00048.png',\n",
              " 'images_in_png/08/00003.png',\n",
              " 'images_in_png/08/00035.png',\n",
              " 'images_in_png/08/00042.png',\n",
              " 'images_in_png/08/00024.png',\n",
              " 'images_in_png/08/00036.png',\n",
              " 'images_in_png/08/00022.png',\n",
              " 'images_in_png/08/00041.png',\n",
              " 'images_in_png/08/00023.png',\n",
              " 'images_in_png/08/00010.png',\n",
              " 'images_in_png/08/00025.png',\n",
              " 'images_in_png/08/00043.png',\n",
              " 'images_in_png/08/00004.png',\n",
              " 'images_in_png/08/00034.png',\n",
              " 'images_in_png/08/00040.png',\n",
              " 'images_in_png/08/00026.png',\n",
              " 'images_in_png/08/00015.png',\n",
              " 'images_in_png/08/00056.png',\n",
              " 'images_in_png/08/00016.png',\n",
              " 'images_in_png/08/00009.png',\n",
              " 'images_in_png/08/00017.png',\n",
              " 'images_in_png/08/00044.png',\n",
              " 'images_in_png/08/00054.png',\n",
              " 'images_in_png/08/00013.png',\n",
              " 'images_in_png/08/00049.png',\n",
              " 'images_in_png/08/00002.png',\n",
              " 'images_in_png/08/00012.png',\n",
              " 'images_in_png/08/00039.png',\n",
              " 'images_in_png/08/00021.png',\n",
              " 'images_in_png/08/00055.png',\n",
              " 'images_in_png/08/00011.png',\n",
              " 'images_in_png/08/00051.png',\n",
              " 'images_in_png/08/00029.png',\n",
              " 'images_in_png/08/00014.png',\n",
              " 'images_in_png/08/00047.png',\n",
              " 'images_in_png/08/00027.png',\n",
              " 'images_in_png/08/00008.png',\n",
              " 'images_in_png/08/00007.png',\n",
              " 'images_in_png/08/00033.png',\n",
              " 'images_in_png/08/00019.png',\n",
              " 'images_in_png/08/00032.png',\n",
              " 'images_in_png/08/00018.png',\n",
              " 'images_in_png/08/00053.png',\n",
              " 'images_in_png/08/00001.png',\n",
              " 'images_in_png/08/00006.png',\n",
              " 'images_in_png/08/00037.png',\n",
              " 'images_in_png/08/00050.png',\n",
              " 'images_in_png/08/00000.png',\n",
              " 'images_in_png/08/00028.png',\n",
              " 'images_in_png/08/00031.png',\n",
              " 'images_in_png/08/00020.png',\n",
              " 'images_in_png/08/00038.png',\n",
              " 'images_in_png/08/00045.png',\n",
              " 'images_in_png/17/00005.png',\n",
              " 'images_in_png/17/00003.png',\n",
              " 'images_in_png/17/00024.png',\n",
              " 'images_in_png/17/00022.png',\n",
              " 'images_in_png/17/00023.png',\n",
              " 'images_in_png/17/00010.png',\n",
              " 'images_in_png/17/00025.png',\n",
              " 'images_in_png/17/00004.png',\n",
              " 'images_in_png/17/00026.png',\n",
              " 'images_in_png/17/00015.png',\n",
              " 'images_in_png/17/00016.png',\n",
              " 'images_in_png/17/00009.png',\n",
              " 'images_in_png/17/00017.png',\n",
              " 'images_in_png/17/00013.png',\n",
              " 'images_in_png/17/00002.png',\n",
              " 'images_in_png/17/00012.png',\n",
              " 'images_in_png/17/00021.png',\n",
              " 'images_in_png/17/00011.png',\n",
              " 'images_in_png/17/00014.png',\n",
              " 'images_in_png/17/00027.png',\n",
              " 'images_in_png/17/00008.png',\n",
              " 'images_in_png/17/00007.png',\n",
              " 'images_in_png/17/00019.png',\n",
              " 'images_in_png/17/00018.png',\n",
              " 'images_in_png/17/00001.png',\n",
              " 'images_in_png/17/00006.png',\n",
              " 'images_in_png/17/00000.png',\n",
              " 'images_in_png/17/00028.png',\n",
              " 'images_in_png/17/00020.png',\n",
              " 'images_in_png/23/00005.png',\n",
              " 'images_in_png/23/00003.png',\n",
              " 'images_in_png/23/00010.png',\n",
              " 'images_in_png/23/00004.png',\n",
              " 'images_in_png/23/00015.png',\n",
              " 'images_in_png/23/00016.png',\n",
              " 'images_in_png/23/00009.png',\n",
              " 'images_in_png/23/00017.png',\n",
              " 'images_in_png/23/00013.png',\n",
              " 'images_in_png/23/00002.png',\n",
              " 'images_in_png/23/00012.png',\n",
              " 'images_in_png/23/00011.png',\n",
              " 'images_in_png/23/00014.png',\n",
              " 'images_in_png/23/00008.png',\n",
              " 'images_in_png/23/00007.png',\n",
              " 'images_in_png/23/00019.png',\n",
              " 'images_in_png/23/00018.png',\n",
              " 'images_in_png/23/00001.png',\n",
              " 'images_in_png/23/00006.png',\n",
              " 'images_in_png/23/00000.png',\n",
              " 'images_in_png/21/00003.png',\n",
              " 'images_in_png/21/00004.png',\n",
              " 'images_in_png/21/00002.png',\n",
              " 'images_in_png/21/00001.png',\n",
              " 'images_in_png/21/00000.png',\n",
              " 'images_in_png/18/00030.png',\n",
              " 'images_in_png/18/00005.png',\n",
              " 'images_in_png/18/00003.png',\n",
              " 'images_in_png/18/00035.png',\n",
              " 'images_in_png/18/00024.png',\n",
              " 'images_in_png/18/00036.png',\n",
              " 'images_in_png/18/00022.png',\n",
              " 'images_in_png/18/00023.png',\n",
              " 'images_in_png/18/00010.png',\n",
              " 'images_in_png/18/00025.png',\n",
              " 'images_in_png/18/00004.png',\n",
              " 'images_in_png/18/00034.png',\n",
              " 'images_in_png/18/00026.png',\n",
              " 'images_in_png/18/00015.png',\n",
              " 'images_in_png/18/00016.png',\n",
              " 'images_in_png/18/00009.png',\n",
              " 'images_in_png/18/00017.png',\n",
              " 'images_in_png/18/00013.png',\n",
              " 'images_in_png/18/00002.png',\n",
              " 'images_in_png/18/00012.png',\n",
              " 'images_in_png/18/00021.png',\n",
              " 'images_in_png/18/00011.png',\n",
              " 'images_in_png/18/00029.png',\n",
              " 'images_in_png/18/00014.png',\n",
              " 'images_in_png/18/00027.png',\n",
              " 'images_in_png/18/00008.png',\n",
              " 'images_in_png/18/00007.png',\n",
              " 'images_in_png/18/00033.png',\n",
              " 'images_in_png/18/00019.png',\n",
              " 'images_in_png/18/00032.png',\n",
              " 'images_in_png/18/00018.png',\n",
              " 'images_in_png/18/00001.png',\n",
              " 'images_in_png/18/00006.png',\n",
              " 'images_in_png/18/00037.png',\n",
              " 'images_in_png/18/00000.png',\n",
              " 'images_in_png/18/00028.png',\n",
              " 'images_in_png/18/00031.png',\n",
              " 'images_in_png/18/00020.png',\n",
              " 'images_in_png/01/00052.png',\n",
              " 'images_in_png/01/00075.png',\n",
              " 'images_in_png/01/00030.png',\n",
              " 'images_in_png/01/00046.png',\n",
              " 'images_in_png/01/00005.png',\n",
              " 'images_in_png/01/00048.png',\n",
              " 'images_in_png/01/00064.png',\n",
              " 'images_in_png/01/00003.png',\n",
              " 'images_in_png/01/00035.png',\n",
              " 'images_in_png/01/00060.png',\n",
              " 'images_in_png/01/00042.png',\n",
              " 'images_in_png/01/00024.png',\n",
              " 'images_in_png/01/00036.png',\n",
              " 'images_in_png/01/00022.png',\n",
              " 'images_in_png/01/00041.png',\n",
              " 'images_in_png/01/00067.png',\n",
              " 'images_in_png/01/00062.png',\n",
              " 'images_in_png/01/00068.png',\n",
              " 'images_in_png/01/00023.png',\n",
              " 'images_in_png/01/00057.png',\n",
              " 'images_in_png/01/00010.png',\n",
              " 'images_in_png/01/00025.png',\n",
              " 'images_in_png/01/00043.png',\n",
              " 'images_in_png/01/00004.png',\n",
              " 'images_in_png/01/00034.png',\n",
              " 'images_in_png/01/00040.png',\n",
              " 'images_in_png/01/00026.png',\n",
              " 'images_in_png/01/00015.png',\n",
              " 'images_in_png/01/00056.png',\n",
              " 'images_in_png/01/00016.png',\n",
              " 'images_in_png/01/00061.png',\n",
              " 'images_in_png/01/00009.png',\n",
              " 'images_in_png/01/00017.png',\n",
              " 'images_in_png/01/00044.png',\n",
              " 'images_in_png/01/00054.png',\n",
              " 'images_in_png/01/00066.png',\n",
              " 'images_in_png/01/00013.png',\n",
              " 'images_in_png/01/00049.png',\n",
              " 'images_in_png/01/00002.png',\n",
              " 'images_in_png/01/00012.png',\n",
              " 'images_in_png/01/00072.png',\n",
              " 'images_in_png/01/00074.png',\n",
              " 'images_in_png/01/00069.png',\n",
              " 'images_in_png/01/00039.png',\n",
              " 'images_in_png/01/00021.png',\n",
              " 'images_in_png/01/00055.png',\n",
              " 'images_in_png/01/00011.png',\n",
              " 'images_in_png/01/00051.png',\n",
              " 'images_in_png/01/00058.png',\n",
              " 'images_in_png/01/00029.png',\n",
              " 'images_in_png/01/00063.png',\n",
              " 'images_in_png/01/00073.png',\n",
              " 'images_in_png/01/00014.png',\n",
              " 'images_in_png/01/00047.png',\n",
              " 'images_in_png/01/00027.png',\n",
              " 'images_in_png/01/00008.png',\n",
              " 'images_in_png/01/00007.png',\n",
              " 'images_in_png/01/00033.png',\n",
              " 'images_in_png/01/00019.png',\n",
              " 'images_in_png/01/00032.png',\n",
              " 'images_in_png/01/00018.png',\n",
              " 'images_in_png/01/00077.png',\n",
              " 'images_in_png/01/00053.png',\n",
              " 'images_in_png/01/00078.png',\n",
              " 'images_in_png/01/00001.png',\n",
              " 'images_in_png/01/00006.png',\n",
              " 'images_in_png/01/00037.png',\n",
              " 'images_in_png/01/00050.png',\n",
              " 'images_in_png/01/00000.png',\n",
              " 'images_in_png/01/00028.png',\n",
              " 'images_in_png/01/00031.png',\n",
              " 'images_in_png/01/00020.png',\n",
              " 'images_in_png/01/00070.png',\n",
              " 'images_in_png/01/00038.png',\n",
              " 'images_in_png/01/00065.png',\n",
              " 'images_in_png/01/00076.png',\n",
              " 'images_in_png/01/00059.png',\n",
              " 'images_in_png/01/00045.png',\n",
              " 'images_in_png/01/00071.png',\n",
              " 'images_in_png/25/00030.png',\n",
              " 'images_in_png/25/00005.png',\n",
              " 'images_in_png/25/00003.png',\n",
              " 'images_in_png/25/00024.png',\n",
              " 'images_in_png/25/00022.png',\n",
              " 'images_in_png/25/00023.png',\n",
              " 'images_in_png/25/00010.png',\n",
              " 'images_in_png/25/00025.png',\n",
              " 'images_in_png/25/00004.png',\n",
              " 'images_in_png/25/00026.png',\n",
              " 'images_in_png/25/00015.png',\n",
              " 'images_in_png/25/00016.png',\n",
              " 'images_in_png/25/00009.png',\n",
              " 'images_in_png/25/00017.png',\n",
              " 'images_in_png/25/00013.png',\n",
              " 'images_in_png/25/00002.png',\n",
              " 'images_in_png/25/00012.png',\n",
              " 'images_in_png/25/00021.png',\n",
              " 'images_in_png/25/00011.png',\n",
              " 'images_in_png/25/00029.png',\n",
              " 'images_in_png/25/00014.png',\n",
              " 'images_in_png/25/00027.png',\n",
              " 'images_in_png/25/00008.png',\n",
              " 'images_in_png/25/00007.png',\n",
              " 'images_in_png/25/00019.png',\n",
              " 'images_in_png/25/00018.png',\n",
              " 'images_in_png/25/00001.png',\n",
              " 'images_in_png/25/00006.png',\n",
              " 'images_in_png/25/00000.png',\n",
              " 'images_in_png/25/00028.png',\n",
              " 'images_in_png/25/00020.png',\n",
              " 'images_in_png/10/00052.png',\n",
              " 'images_in_png/10/00075.png',\n",
              " 'images_in_png/10/00030.png',\n",
              " 'images_in_png/10/00046.png',\n",
              " 'images_in_png/10/00005.png',\n",
              " 'images_in_png/10/00048.png',\n",
              " 'images_in_png/10/00064.png',\n",
              " 'images_in_png/10/00003.png',\n",
              " 'images_in_png/10/00035.png',\n",
              " 'images_in_png/10/00060.png',\n",
              " 'images_in_png/10/00042.png',\n",
              " 'images_in_png/10/00024.png',\n",
              " 'images_in_png/10/00036.png',\n",
              " 'images_in_png/10/00022.png',\n",
              " 'images_in_png/10/00041.png',\n",
              " 'images_in_png/10/00067.png',\n",
              " 'images_in_png/10/00062.png',\n",
              " 'images_in_png/10/00068.png',\n",
              " 'images_in_png/10/00023.png',\n",
              " 'images_in_png/10/00057.png',\n",
              " 'images_in_png/10/00010.png',\n",
              " 'images_in_png/10/00025.png',\n",
              " 'images_in_png/10/00043.png',\n",
              " 'images_in_png/10/00004.png',\n",
              " 'images_in_png/10/00034.png',\n",
              " 'images_in_png/10/00040.png',\n",
              " 'images_in_png/10/00026.png',\n",
              " 'images_in_png/10/00015.png',\n",
              " 'images_in_png/10/00056.png',\n",
              " 'images_in_png/10/00016.png',\n",
              " 'images_in_png/10/00061.png',\n",
              " 'images_in_png/10/00009.png',\n",
              " 'images_in_png/10/00017.png',\n",
              " 'images_in_png/10/00044.png',\n",
              " 'images_in_png/10/00054.png',\n",
              " 'images_in_png/10/00066.png',\n",
              " 'images_in_png/10/00013.png',\n",
              " 'images_in_png/10/00049.png',\n",
              " 'images_in_png/10/00002.png',\n",
              " 'images_in_png/10/00012.png',\n",
              " 'images_in_png/10/00072.png',\n",
              " 'images_in_png/10/00074.png',\n",
              " 'images_in_png/10/00069.png',\n",
              " 'images_in_png/10/00039.png',\n",
              " 'images_in_png/10/00021.png',\n",
              " 'images_in_png/10/00055.png',\n",
              " 'images_in_png/10/00011.png',\n",
              " 'images_in_png/10/00051.png',\n",
              " 'images_in_png/10/00058.png',\n",
              " 'images_in_png/10/00029.png',\n",
              " 'images_in_png/10/00063.png',\n",
              " 'images_in_png/10/00073.png',\n",
              " 'images_in_png/10/00014.png',\n",
              " 'images_in_png/10/00047.png',\n",
              " 'images_in_png/10/00027.png',\n",
              " 'images_in_png/10/00008.png',\n",
              " 'images_in_png/10/00007.png',\n",
              " 'images_in_png/10/00033.png',\n",
              " 'images_in_png/10/00019.png',\n",
              " 'images_in_png/10/00032.png',\n",
              " 'images_in_png/10/00018.png',\n",
              " 'images_in_png/10/00077.png',\n",
              " 'images_in_png/10/00053.png',\n",
              " 'images_in_png/10/00078.png',\n",
              " 'images_in_png/10/00079.png',\n",
              " 'images_in_png/10/00001.png',\n",
              " 'images_in_png/10/00006.png',\n",
              " 'images_in_png/10/00037.png',\n",
              " 'images_in_png/10/00050.png',\n",
              " 'images_in_png/10/00000.png',\n",
              " 'images_in_png/10/00028.png',\n",
              " 'images_in_png/10/00031.png',\n",
              " 'images_in_png/10/00020.png',\n",
              " 'images_in_png/10/00070.png',\n",
              " 'images_in_png/10/00038.png',\n",
              " 'images_in_png/10/00065.png',\n",
              " 'images_in_png/10/00076.png',\n",
              " 'images_in_png/10/00059.png',\n",
              " 'images_in_png/10/00045.png',\n",
              " 'images_in_png/10/00071.png',\n",
              " 'images_in_png/00/00003.png',\n",
              " 'images_in_png/00/00002.png',\n",
              " 'images_in_png/00/00001.png',\n",
              " 'images_in_png/00/00000.png',\n",
              " 'images_in_png/29/00003.png',\n",
              " 'images_in_png/29/00004.png',\n",
              " 'images_in_png/29/00002.png',\n",
              " 'images_in_png/29/00001.png',\n",
              " 'images_in_png/29/00000.png',\n",
              " 'images_in_png/12/00052.png',\n",
              " 'images_in_png/12/00075.png',\n",
              " 'images_in_png/12/00030.png',\n",
              " 'images_in_png/12/00046.png',\n",
              " 'images_in_png/12/00005.png',\n",
              " 'images_in_png/12/00048.png',\n",
              " 'images_in_png/12/00064.png',\n",
              " 'images_in_png/12/00003.png',\n",
              " 'images_in_png/12/00035.png',\n",
              " 'images_in_png/12/00060.png',\n",
              " 'images_in_png/12/00042.png',\n",
              " 'images_in_png/12/00024.png',\n",
              " 'images_in_png/12/00036.png',\n",
              " 'images_in_png/12/00022.png',\n",
              " 'images_in_png/12/00041.png',\n",
              " 'images_in_png/12/00067.png',\n",
              " 'images_in_png/12/00062.png',\n",
              " 'images_in_png/12/00068.png',\n",
              " 'images_in_png/12/00023.png',\n",
              " 'images_in_png/12/00057.png',\n",
              " 'images_in_png/12/00010.png',\n",
              " 'images_in_png/12/00082.png',\n",
              " 'images_in_png/12/00025.png',\n",
              " 'images_in_png/12/00043.png',\n",
              " 'images_in_png/12/00004.png',\n",
              " 'images_in_png/12/00034.png',\n",
              " 'images_in_png/12/00040.png',\n",
              " 'images_in_png/12/00026.png',\n",
              " 'images_in_png/12/00015.png',\n",
              " 'images_in_png/12/00056.png',\n",
              " 'images_in_png/12/00016.png',\n",
              " 'images_in_png/12/00061.png',\n",
              " 'images_in_png/12/00009.png',\n",
              " 'images_in_png/12/00017.png',\n",
              " 'images_in_png/12/00084.png',\n",
              " 'images_in_png/12/00044.png',\n",
              " 'images_in_png/12/00054.png',\n",
              " 'images_in_png/12/00066.png',\n",
              " 'images_in_png/12/00013.png',\n",
              " 'images_in_png/12/00049.png',\n",
              " 'images_in_png/12/00002.png',\n",
              " 'images_in_png/12/00012.png',\n",
              " 'images_in_png/12/00072.png',\n",
              " 'images_in_png/12/00074.png',\n",
              " 'images_in_png/12/00069.png',\n",
              " 'images_in_png/12/00039.png',\n",
              " 'images_in_png/12/00021.png',\n",
              " 'images_in_png/12/00083.png',\n",
              " 'images_in_png/12/00055.png',\n",
              " 'images_in_png/12/00011.png',\n",
              " 'images_in_png/12/00081.png',\n",
              " 'images_in_png/12/00051.png',\n",
              " 'images_in_png/12/00058.png',\n",
              " 'images_in_png/12/00029.png',\n",
              " 'images_in_png/12/00063.png',\n",
              " 'images_in_png/12/00073.png',\n",
              " 'images_in_png/12/00014.png',\n",
              " 'images_in_png/12/00047.png',\n",
              " 'images_in_png/12/00027.png',\n",
              " 'images_in_png/12/00080.png',\n",
              " 'images_in_png/12/00008.png',\n",
              " 'images_in_png/12/00007.png',\n",
              " 'images_in_png/12/00033.png',\n",
              " 'images_in_png/12/00019.png',\n",
              " 'images_in_png/12/00032.png',\n",
              " 'images_in_png/12/00018.png',\n",
              " 'images_in_png/12/00077.png',\n",
              " 'images_in_png/12/00053.png',\n",
              " 'images_in_png/12/00078.png',\n",
              " 'images_in_png/12/00079.png',\n",
              " 'images_in_png/12/00001.png',\n",
              " 'images_in_png/12/00006.png',\n",
              " 'images_in_png/12/00037.png',\n",
              " 'images_in_png/12/00050.png',\n",
              " 'images_in_png/12/00000.png',\n",
              " 'images_in_png/12/00028.png',\n",
              " 'images_in_png/12/00031.png',\n",
              " 'images_in_png/12/00020.png',\n",
              " 'images_in_png/12/00070.png',\n",
              " 'images_in_png/12/00038.png',\n",
              " 'images_in_png/12/00065.png',\n",
              " 'images_in_png/12/00076.png',\n",
              " 'images_in_png/12/00059.png',\n",
              " 'images_in_png/12/00045.png',\n",
              " 'images_in_png/12/00071.png',\n",
              " 'images_in_png/36/00005.png',\n",
              " 'images_in_png/36/00003.png',\n",
              " 'images_in_png/36/00004.png',\n",
              " 'images_in_png/36/00002.png',\n",
              " 'images_in_png/36/00008.png',\n",
              " 'images_in_png/36/00007.png',\n",
              " 'images_in_png/36/00001.png',\n",
              " 'images_in_png/36/00006.png',\n",
              " 'images_in_png/36/00000.png',\n",
              " 'images_in_png/30/00005.png',\n",
              " 'images_in_png/30/00003.png',\n",
              " 'images_in_png/30/00010.png',\n",
              " 'images_in_png/30/00004.png',\n",
              " 'images_in_png/30/00015.png',\n",
              " 'images_in_png/30/00009.png',\n",
              " 'images_in_png/30/00013.png',\n",
              " 'images_in_png/30/00002.png',\n",
              " 'images_in_png/30/00012.png',\n",
              " 'images_in_png/30/00011.png',\n",
              " 'images_in_png/30/00014.png',\n",
              " 'images_in_png/30/00008.png',\n",
              " 'images_in_png/30/00007.png',\n",
              " 'images_in_png/30/00001.png',\n",
              " 'images_in_png/30/00006.png',\n",
              " 'images_in_png/30/00000.png',\n",
              " 'images_in_png/13/00052.png',\n",
              " 'images_in_png/13/00075.png',\n",
              " 'images_in_png/13/00030.png',\n",
              " 'images_in_png/13/00046.png',\n",
              " 'images_in_png/13/00005.png',\n",
              " 'images_in_png/13/00048.png',\n",
              " 'images_in_png/13/00064.png',\n",
              " 'images_in_png/13/00003.png',\n",
              " 'images_in_png/13/00035.png',\n",
              " 'images_in_png/13/00060.png',\n",
              " 'images_in_png/13/00042.png',\n",
              " 'images_in_png/13/00024.png',\n",
              " 'images_in_png/13/00036.png',\n",
              " 'images_in_png/13/00022.png',\n",
              " 'images_in_png/13/00041.png',\n",
              " 'images_in_png/13/00067.png',\n",
              " 'images_in_png/13/00062.png',\n",
              " 'images_in_png/13/00068.png',\n",
              " 'images_in_png/13/00023.png',\n",
              " 'images_in_png/13/00057.png',\n",
              " 'images_in_png/13/00010.png',\n",
              " 'images_in_png/13/00082.png',\n",
              " 'images_in_png/13/00025.png',\n",
              " 'images_in_png/13/00043.png',\n",
              " 'images_in_png/13/00004.png',\n",
              " 'images_in_png/13/00034.png',\n",
              " 'images_in_png/13/00040.png',\n",
              " 'images_in_png/13/00026.png',\n",
              " 'images_in_png/13/00015.png',\n",
              " 'images_in_png/13/00056.png',\n",
              " 'images_in_png/13/00016.png',\n",
              " 'images_in_png/13/00061.png',\n",
              " 'images_in_png/13/00009.png',\n",
              " 'images_in_png/13/00017.png',\n",
              " 'images_in_png/13/00044.png',\n",
              " 'images_in_png/13/00054.png',\n",
              " 'images_in_png/13/00066.png',\n",
              " 'images_in_png/13/00013.png',\n",
              " 'images_in_png/13/00049.png',\n",
              " 'images_in_png/13/00002.png',\n",
              " 'images_in_png/13/00012.png',\n",
              " 'images_in_png/13/00072.png',\n",
              " 'images_in_png/13/00074.png',\n",
              " 'images_in_png/13/00069.png',\n",
              " 'images_in_png/13/00039.png',\n",
              " 'images_in_png/13/00021.png',\n",
              " 'images_in_png/13/00055.png',\n",
              " 'images_in_png/13/00011.png',\n",
              " 'images_in_png/13/00081.png',\n",
              " 'images_in_png/13/00051.png',\n",
              " 'images_in_png/13/00058.png',\n",
              " 'images_in_png/13/00029.png',\n",
              " 'images_in_png/13/00063.png',\n",
              " 'images_in_png/13/00073.png',\n",
              " 'images_in_png/13/00014.png',\n",
              " 'images_in_png/13/00047.png',\n",
              " 'images_in_png/13/00027.png',\n",
              " 'images_in_png/13/00080.png',\n",
              " 'images_in_png/13/00008.png',\n",
              " 'images_in_png/13/00007.png',\n",
              " 'images_in_png/13/00033.png',\n",
              " 'images_in_png/13/00019.png',\n",
              " 'images_in_png/13/00032.png',\n",
              " 'images_in_png/13/00018.png',\n",
              " 'images_in_png/13/00077.png',\n",
              " 'images_in_png/13/00053.png',\n",
              " 'images_in_png/13/00078.png',\n",
              " 'images_in_png/13/00079.png',\n",
              " 'images_in_png/13/00001.png',\n",
              " 'images_in_png/13/00006.png',\n",
              " 'images_in_png/13/00037.png',\n",
              " 'images_in_png/13/00050.png',\n",
              " 'images_in_png/13/00000.png',\n",
              " 'images_in_png/13/00028.png',\n",
              " 'images_in_png/13/00031.png',\n",
              " 'images_in_png/13/00020.png',\n",
              " 'images_in_png/13/00070.png',\n",
              " 'images_in_png/13/00038.png',\n",
              " 'images_in_png/13/00065.png',\n",
              " 'images_in_png/13/00076.png',\n",
              " 'images_in_png/13/00059.png',\n",
              " 'images_in_png/13/00045.png',\n",
              " 'images_in_png/13/00071.png',\n",
              " 'images_in_png/33/00005.png',\n",
              " 'images_in_png/33/00003.png',\n",
              " 'images_in_png/33/00010.png',\n",
              " 'images_in_png/33/00004.png',\n",
              " 'images_in_png/33/00015.png',\n",
              " 'images_in_png/33/00009.png',\n",
              " 'images_in_png/33/00013.png',\n",
              " 'images_in_png/33/00002.png',\n",
              " 'images_in_png/33/00012.png',\n",
              " 'images_in_png/33/00011.png',\n",
              " 'images_in_png/33/00014.png',\n",
              " 'images_in_png/33/00008.png',\n",
              " 'images_in_png/33/00007.png',\n",
              " 'images_in_png/33/00001.png',\n",
              " 'images_in_png/33/00006.png',\n",
              " 'images_in_png/33/00000.png',\n",
              " 'images_in_png/31/00001.png',\n",
              " 'images_in_png/31/00000.png',\n",
              " 'images_in_png/34/00005.png',\n",
              " 'images_in_png/34/00003.png',\n",
              " 'images_in_png/34/00010.png',\n",
              " 'images_in_png/34/00004.png',\n",
              " 'images_in_png/34/00009.png',\n",
              " 'images_in_png/34/00002.png',\n",
              " 'images_in_png/34/00011.png',\n",
              " 'images_in_png/34/00008.png',\n",
              " 'images_in_png/34/00007.png',\n",
              " 'images_in_png/34/00001.png',\n",
              " 'images_in_png/34/00006.png',\n",
              " 'images_in_png/34/00000.png',\n",
              " 'images_in_png/09/00030.png',\n",
              " 'images_in_png/09/00005.png',\n",
              " 'images_in_png/09/00003.png',\n",
              " 'images_in_png/09/00035.png',\n",
              " 'images_in_png/09/00024.png',\n",
              " 'images_in_png/09/00036.png',\n",
              " 'images_in_png/09/00022.png',\n",
              " 'images_in_png/09/00023.png',\n",
              " 'images_in_png/09/00010.png',\n",
              " 'images_in_png/09/00025.png',\n",
              " 'images_in_png/09/00004.png',\n",
              " 'images_in_png/09/00034.png',\n",
              " 'images_in_png/09/00040.png',\n",
              " 'images_in_png/09/00026.png',\n",
              " 'images_in_png/09/00015.png',\n",
              " 'images_in_png/09/00016.png',\n",
              " 'images_in_png/09/00009.png',\n",
              " 'images_in_png/09/00017.png',\n",
              " 'images_in_png/09/00013.png',\n",
              " 'images_in_png/09/00002.png',\n",
              " 'images_in_png/09/00012.png',\n",
              " 'images_in_png/09/00039.png',\n",
              " 'images_in_png/09/00021.png',\n",
              " 'images_in_png/09/00011.png',\n",
              " 'images_in_png/09/00029.png',\n",
              " 'images_in_png/09/00014.png',\n",
              " 'images_in_png/09/00027.png',\n",
              " 'images_in_png/09/00008.png',\n",
              " 'images_in_png/09/00007.png',\n",
              " 'images_in_png/09/00033.png',\n",
              " 'images_in_png/09/00019.png',\n",
              " 'images_in_png/09/00032.png',\n",
              " 'images_in_png/09/00018.png',\n",
              " 'images_in_png/09/00001.png',\n",
              " 'images_in_png/09/00006.png',\n",
              " 'images_in_png/09/00037.png',\n",
              " 'images_in_png/09/00000.png',\n",
              " 'images_in_png/09/00028.png',\n",
              " 'images_in_png/09/00031.png',\n",
              " 'images_in_png/09/00020.png',\n",
              " 'images_in_png/09/00038.png',\n",
              " 'images_in_png/32/00005.png',\n",
              " 'images_in_png/32/00003.png',\n",
              " 'images_in_png/32/00004.png',\n",
              " 'images_in_png/32/00002.png',\n",
              " 'images_in_png/32/00007.png',\n",
              " 'images_in_png/32/00001.png',\n",
              " 'images_in_png/32/00006.png',\n",
              " 'images_in_png/32/00000.png',\n",
              " 'images_in_png/41/00005.png',\n",
              " 'images_in_png/41/00003.png',\n",
              " 'images_in_png/41/00004.png',\n",
              " 'images_in_png/41/00002.png',\n",
              " 'images_in_png/41/00001.png',\n",
              " 'images_in_png/41/00006.png',\n",
              " 'images_in_png/41/00000.png',\n",
              " 'images_in_png/07/00030.png',\n",
              " 'images_in_png/07/00005.png',\n",
              " 'images_in_png/07/00003.png',\n",
              " 'images_in_png/07/00035.png',\n",
              " 'images_in_png/07/00024.png',\n",
              " 'images_in_png/07/00036.png',\n",
              " 'images_in_png/07/00022.png',\n",
              " 'images_in_png/07/00023.png',\n",
              " 'images_in_png/07/00010.png',\n",
              " 'images_in_png/07/00025.png',\n",
              " 'images_in_png/07/00004.png',\n",
              " 'images_in_png/07/00034.png',\n",
              " 'images_in_png/07/00040.png',\n",
              " 'images_in_png/07/00026.png',\n",
              " 'images_in_png/07/00015.png',\n",
              " 'images_in_png/07/00016.png',\n",
              " 'images_in_png/07/00009.png',\n",
              " 'images_in_png/07/00017.png',\n",
              " 'images_in_png/07/00013.png',\n",
              " 'images_in_png/07/00002.png',\n",
              " 'images_in_png/07/00012.png',\n",
              " 'images_in_png/07/00039.png',\n",
              " 'images_in_png/07/00021.png',\n",
              " 'images_in_png/07/00011.png',\n",
              " 'images_in_png/07/00029.png',\n",
              " 'images_in_png/07/00014.png',\n",
              " 'images_in_png/07/00027.png',\n",
              " 'images_in_png/07/00008.png',\n",
              " 'images_in_png/07/00007.png',\n",
              " 'images_in_png/07/00033.png',\n",
              " 'images_in_png/07/00019.png',\n",
              " 'images_in_png/07/00032.png',\n",
              " 'images_in_png/07/00018.png',\n",
              " 'images_in_png/07/00001.png',\n",
              " 'images_in_png/07/00006.png',\n",
              " 'images_in_png/07/00037.png',\n",
              " 'images_in_png/07/00000.png',\n",
              " 'images_in_png/07/00028.png',\n",
              " 'images_in_png/07/00031.png',\n",
              " 'images_in_png/07/00020.png',\n",
              " 'images_in_png/07/00038.png',\n",
              " 'images_in_png/38/00052.png',\n",
              " 'images_in_png/38/00075.png',\n",
              " 'images_in_png/38/00030.png',\n",
              " 'images_in_png/38/00046.png',\n",
              " 'images_in_png/38/00005.png',\n",
              " 'images_in_png/38/00048.png',\n",
              " 'images_in_png/38/00064.png',\n",
              " 'images_in_png/38/00003.png',\n",
              " 'images_in_png/38/00035.png',\n",
              " 'images_in_png/38/00060.png',\n",
              " 'images_in_png/38/00042.png',\n",
              " 'images_in_png/38/00024.png',\n",
              " 'images_in_png/38/00036.png',\n",
              " 'images_in_png/38/00022.png',\n",
              " 'images_in_png/38/00041.png',\n",
              " 'images_in_png/38/00067.png',\n",
              " 'images_in_png/38/00062.png',\n",
              " 'images_in_png/38/00068.png',\n",
              " 'images_in_png/38/00023.png',\n",
              " 'images_in_png/38/00057.png',\n",
              " 'images_in_png/38/00010.png',\n",
              " 'images_in_png/38/00082.png',\n",
              " 'images_in_png/38/00025.png',\n",
              " 'images_in_png/38/00043.png',\n",
              " 'images_in_png/38/00004.png',\n",
              " 'images_in_png/38/00034.png',\n",
              " 'images_in_png/38/00086.png',\n",
              " 'images_in_png/38/00040.png',\n",
              " 'images_in_png/38/00026.png',\n",
              " 'images_in_png/38/00015.png',\n",
              " 'images_in_png/38/00056.png',\n",
              " 'images_in_png/38/00016.png',\n",
              " 'images_in_png/38/00061.png',\n",
              " 'images_in_png/38/00009.png',\n",
              " 'images_in_png/38/00017.png',\n",
              " 'images_in_png/38/00084.png',\n",
              " 'images_in_png/38/00087.png',\n",
              " 'images_in_png/38/00044.png',\n",
              " 'images_in_png/38/00054.png',\n",
              " 'images_in_png/38/00066.png',\n",
              " 'images_in_png/38/00013.png',\n",
              " 'images_in_png/38/00049.png',\n",
              " 'images_in_png/38/00002.png',\n",
              " 'images_in_png/38/00012.png',\n",
              " 'images_in_png/38/00072.png',\n",
              " 'images_in_png/38/00074.png',\n",
              " 'images_in_png/38/00069.png',\n",
              " 'images_in_png/38/00039.png',\n",
              " 'images_in_png/38/00021.png',\n",
              " 'images_in_png/38/00083.png',\n",
              " 'images_in_png/38/00055.png',\n",
              " 'images_in_png/38/00011.png',\n",
              " 'images_in_png/38/00081.png',\n",
              " 'images_in_png/38/00051.png',\n",
              " 'images_in_png/38/00058.png',\n",
              " 'images_in_png/38/00085.png',\n",
              " 'images_in_png/38/00029.png',\n",
              " 'images_in_png/38/00063.png',\n",
              " 'images_in_png/38/00073.png',\n",
              " 'images_in_png/38/00014.png',\n",
              " 'images_in_png/38/00047.png',\n",
              " 'images_in_png/38/00027.png',\n",
              " 'images_in_png/38/00080.png',\n",
              " 'images_in_png/38/00008.png',\n",
              " 'images_in_png/38/00007.png',\n",
              " 'images_in_png/38/00033.png',\n",
              " 'images_in_png/38/00019.png',\n",
              " 'images_in_png/38/00032.png',\n",
              " 'images_in_png/38/00018.png',\n",
              " 'images_in_png/38/00077.png',\n",
              " 'images_in_png/38/00053.png',\n",
              " 'images_in_png/38/00078.png',\n",
              " 'images_in_png/38/00079.png',\n",
              " 'images_in_png/38/00001.png',\n",
              " 'images_in_png/38/00006.png',\n",
              " 'images_in_png/38/00037.png',\n",
              " 'images_in_png/38/00050.png',\n",
              " 'images_in_png/38/00000.png',\n",
              " 'images_in_png/38/00028.png',\n",
              " 'images_in_png/38/00031.png',\n",
              " 'images_in_png/38/00020.png',\n",
              " 'images_in_png/38/00070.png',\n",
              " 'images_in_png/38/00038.png',\n",
              " 'images_in_png/38/00065.png',\n",
              " 'images_in_png/38/00076.png',\n",
              " 'images_in_png/38/00059.png',\n",
              " 'images_in_png/38/00045.png',\n",
              " 'images_in_png/38/00071.png',\n",
              " 'images_in_png/05/00052.png',\n",
              " 'images_in_png/05/00030.png',\n",
              " ...]"
            ]
          },
          "metadata": {},
          "execution_count": 8
        }
      ]
    },
    {
      "cell_type": "markdown",
      "source": [
        "#### Creating array and labels for png images"
      ],
      "metadata": {
        "id": "NzfHBvEUpEqO"
      },
      "id": "NzfHBvEUpEqO"
    },
    {
      "cell_type": "code",
      "source": [
        "arrays = []\n",
        "labels = []\n",
        "for path in images_png:\n",
        "    img = Image.open(path)\n",
        "    img_array = np.array(img)\n",
        "    label = path.split(\"/\")[1]\n",
        "    labels.append(int(label))\n",
        "    arrays.append(img_array)"
      ],
      "metadata": {
        "collapsed": true,
        "id": "rrMyfK5xiSvK"
      },
      "id": "rrMyfK5xiSvK",
      "execution_count": null,
      "outputs": []
    },
    {
      "cell_type": "code",
      "source": [
        "labels"
      ],
      "metadata": {
        "collapsed": true,
        "id": "ZCY7WUrKoFmH",
        "colab": {
          "base_uri": "https://localhost:8080/"
        },
        "outputId": "56b3925f-a2af-467b-997e-d6a6a9238b58"
      },
      "id": "ZCY7WUrKoFmH",
      "execution_count": null,
      "outputs": [
        {
          "output_type": "execute_result",
          "data": {
            "text/plain": [
              "[4,\n",
              " 4,\n",
              " 4,\n",
              " 4,\n",
              " 4,\n",
              " 4,\n",
              " 4,\n",
              " 4,\n",
              " 4,\n",
              " 4,\n",
              " 4,\n",
              " 4,\n",
              " 4,\n",
              " 4,\n",
              " 4,\n",
              " 4,\n",
              " 4,\n",
              " 4,\n",
              " 4,\n",
              " 4,\n",
              " 4,\n",
              " 4,\n",
              " 4,\n",
              " 4,\n",
              " 4,\n",
              " 4,\n",
              " 4,\n",
              " 4,\n",
              " 4,\n",
              " 4,\n",
              " 4,\n",
              " 4,\n",
              " 4,\n",
              " 4,\n",
              " 4,\n",
              " 4,\n",
              " 4,\n",
              " 4,\n",
              " 4,\n",
              " 4,\n",
              " 4,\n",
              " 4,\n",
              " 4,\n",
              " 4,\n",
              " 4,\n",
              " 4,\n",
              " 4,\n",
              " 4,\n",
              " 4,\n",
              " 4,\n",
              " 4,\n",
              " 4,\n",
              " 4,\n",
              " 4,\n",
              " 4,\n",
              " 4,\n",
              " 4,\n",
              " 4,\n",
              " 4,\n",
              " 4,\n",
              " 4,\n",
              " 4,\n",
              " 4,\n",
              " 4,\n",
              " 4,\n",
              " 4,\n",
              " 4,\n",
              " 4,\n",
              " 39,\n",
              " 39,\n",
              " 39,\n",
              " 39,\n",
              " 39,\n",
              " 39,\n",
              " 40,\n",
              " 40,\n",
              " 40,\n",
              " 40,\n",
              " 40,\n",
              " 40,\n",
              " 40,\n",
              " 40,\n",
              " 40,\n",
              " 40,\n",
              " 42,\n",
              " 42,\n",
              " 42,\n",
              " 42,\n",
              " 42,\n",
              " 42,\n",
              " 42,\n",
              " 42,\n",
              " 42,\n",
              " 42,\n",
              " 42,\n",
              " 37,\n",
              " 37,\n",
              " 6,\n",
              " 6,\n",
              " 6,\n",
              " 6,\n",
              " 6,\n",
              " 6,\n",
              " 6,\n",
              " 6,\n",
              " 6,\n",
              " 6,\n",
              " 6,\n",
              " 6,\n",
              " 6,\n",
              " 6,\n",
              " 6,\n",
              " 6,\n",
              " 6,\n",
              " 6,\n",
              " 6,\n",
              " 26,\n",
              " 26,\n",
              " 26,\n",
              " 26,\n",
              " 26,\n",
              " 26,\n",
              " 26,\n",
              " 26,\n",
              " 26,\n",
              " 26,\n",
              " 26,\n",
              " 26,\n",
              " 26,\n",
              " 26,\n",
              " 26,\n",
              " 26,\n",
              " 26,\n",
              " 26,\n",
              " 35,\n",
              " 35,\n",
              " 35,\n",
              " 35,\n",
              " 35,\n",
              " 35,\n",
              " 35,\n",
              " 35,\n",
              " 35,\n",
              " 35,\n",
              " 35,\n",
              " 35,\n",
              " 35,\n",
              " 35,\n",
              " 35,\n",
              " 35,\n",
              " 35,\n",
              " 35,\n",
              " 35,\n",
              " 35,\n",
              " 27,\n",
              " 27,\n",
              " 27,\n",
              " 14,\n",
              " 14,\n",
              " 14,\n",
              " 14,\n",
              " 14,\n",
              " 14,\n",
              " 14,\n",
              " 14,\n",
              " 14,\n",
              " 14,\n",
              " 14,\n",
              " 14,\n",
              " 14,\n",
              " 14,\n",
              " 14,\n",
              " 14,\n",
              " 14,\n",
              " 14,\n",
              " 14,\n",
              " 14,\n",
              " 14,\n",
              " 14,\n",
              " 14,\n",
              " 14,\n",
              " 14,\n",
              " 14,\n",
              " 14,\n",
              " 14,\n",
              " 14,\n",
              " 14,\n",
              " 14,\n",
              " 14,\n",
              " 15,\n",
              " 15,\n",
              " 15,\n",
              " 15,\n",
              " 15,\n",
              " 15,\n",
              " 15,\n",
              " 15,\n",
              " 15,\n",
              " 15,\n",
              " 15,\n",
              " 15,\n",
              " 15,\n",
              " 15,\n",
              " 15,\n",
              " 11,\n",
              " 11,\n",
              " 11,\n",
              " 11,\n",
              " 11,\n",
              " 11,\n",
              " 11,\n",
              " 11,\n",
              " 11,\n",
              " 11,\n",
              " 11,\n",
              " 11,\n",
              " 11,\n",
              " 11,\n",
              " 11,\n",
              " 11,\n",
              " 11,\n",
              " 11,\n",
              " 11,\n",
              " 11,\n",
              " 11,\n",
              " 11,\n",
              " 11,\n",
              " 11,\n",
              " 11,\n",
              " 11,\n",
              " 11,\n",
              " 11,\n",
              " 11,\n",
              " 11,\n",
              " 11,\n",
              " 11,\n",
              " 11,\n",
              " 11,\n",
              " 11,\n",
              " 11,\n",
              " 11,\n",
              " 11,\n",
              " 8,\n",
              " 8,\n",
              " 8,\n",
              " 8,\n",
              " 8,\n",
              " 8,\n",
              " 8,\n",
              " 8,\n",
              " 8,\n",
              " 8,\n",
              " 8,\n",
              " 8,\n",
              " 8,\n",
              " 8,\n",
              " 8,\n",
              " 8,\n",
              " 8,\n",
              " 8,\n",
              " 8,\n",
              " 8,\n",
              " 8,\n",
              " 8,\n",
              " 8,\n",
              " 8,\n",
              " 8,\n",
              " 8,\n",
              " 8,\n",
              " 8,\n",
              " 8,\n",
              " 8,\n",
              " 8,\n",
              " 8,\n",
              " 8,\n",
              " 8,\n",
              " 8,\n",
              " 8,\n",
              " 8,\n",
              " 8,\n",
              " 8,\n",
              " 8,\n",
              " 8,\n",
              " 8,\n",
              " 8,\n",
              " 8,\n",
              " 8,\n",
              " 8,\n",
              " 8,\n",
              " 8,\n",
              " 8,\n",
              " 8,\n",
              " 8,\n",
              " 8,\n",
              " 8,\n",
              " 8,\n",
              " 8,\n",
              " 8,\n",
              " 8,\n",
              " 17,\n",
              " 17,\n",
              " 17,\n",
              " 17,\n",
              " 17,\n",
              " 17,\n",
              " 17,\n",
              " 17,\n",
              " 17,\n",
              " 17,\n",
              " 17,\n",
              " 17,\n",
              " 17,\n",
              " 17,\n",
              " 17,\n",
              " 17,\n",
              " 17,\n",
              " 17,\n",
              " 17,\n",
              " 17,\n",
              " 17,\n",
              " 17,\n",
              " 17,\n",
              " 17,\n",
              " 17,\n",
              " 17,\n",
              " 17,\n",
              " 17,\n",
              " 17,\n",
              " 23,\n",
              " 23,\n",
              " 23,\n",
              " 23,\n",
              " 23,\n",
              " 23,\n",
              " 23,\n",
              " 23,\n",
              " 23,\n",
              " 23,\n",
              " 23,\n",
              " 23,\n",
              " 23,\n",
              " 23,\n",
              " 23,\n",
              " 23,\n",
              " 23,\n",
              " 23,\n",
              " 23,\n",
              " 23,\n",
              " 21,\n",
              " 21,\n",
              " 21,\n",
              " 21,\n",
              " 21,\n",
              " 18,\n",
              " 18,\n",
              " 18,\n",
              " 18,\n",
              " 18,\n",
              " 18,\n",
              " 18,\n",
              " 18,\n",
              " 18,\n",
              " 18,\n",
              " 18,\n",
              " 18,\n",
              " 18,\n",
              " 18,\n",
              " 18,\n",
              " 18,\n",
              " 18,\n",
              " 18,\n",
              " 18,\n",
              " 18,\n",
              " 18,\n",
              " 18,\n",
              " 18,\n",
              " 18,\n",
              " 18,\n",
              " 18,\n",
              " 18,\n",
              " 18,\n",
              " 18,\n",
              " 18,\n",
              " 18,\n",
              " 18,\n",
              " 18,\n",
              " 18,\n",
              " 18,\n",
              " 18,\n",
              " 18,\n",
              " 18,\n",
              " 1,\n",
              " 1,\n",
              " 1,\n",
              " 1,\n",
              " 1,\n",
              " 1,\n",
              " 1,\n",
              " 1,\n",
              " 1,\n",
              " 1,\n",
              " 1,\n",
              " 1,\n",
              " 1,\n",
              " 1,\n",
              " 1,\n",
              " 1,\n",
              " 1,\n",
              " 1,\n",
              " 1,\n",
              " 1,\n",
              " 1,\n",
              " 1,\n",
              " 1,\n",
              " 1,\n",
              " 1,\n",
              " 1,\n",
              " 1,\n",
              " 1,\n",
              " 1,\n",
              " 1,\n",
              " 1,\n",
              " 1,\n",
              " 1,\n",
              " 1,\n",
              " 1,\n",
              " 1,\n",
              " 1,\n",
              " 1,\n",
              " 1,\n",
              " 1,\n",
              " 1,\n",
              " 1,\n",
              " 1,\n",
              " 1,\n",
              " 1,\n",
              " 1,\n",
              " 1,\n",
              " 1,\n",
              " 1,\n",
              " 1,\n",
              " 1,\n",
              " 1,\n",
              " 1,\n",
              " 1,\n",
              " 1,\n",
              " 1,\n",
              " 1,\n",
              " 1,\n",
              " 1,\n",
              " 1,\n",
              " 1,\n",
              " 1,\n",
              " 1,\n",
              " 1,\n",
              " 1,\n",
              " 1,\n",
              " 1,\n",
              " 1,\n",
              " 1,\n",
              " 1,\n",
              " 1,\n",
              " 1,\n",
              " 1,\n",
              " 1,\n",
              " 1,\n",
              " 1,\n",
              " 1,\n",
              " 1,\n",
              " 1,\n",
              " 25,\n",
              " 25,\n",
              " 25,\n",
              " 25,\n",
              " 25,\n",
              " 25,\n",
              " 25,\n",
              " 25,\n",
              " 25,\n",
              " 25,\n",
              " 25,\n",
              " 25,\n",
              " 25,\n",
              " 25,\n",
              " 25,\n",
              " 25,\n",
              " 25,\n",
              " 25,\n",
              " 25,\n",
              " 25,\n",
              " 25,\n",
              " 25,\n",
              " 25,\n",
              " 25,\n",
              " 25,\n",
              " 25,\n",
              " 25,\n",
              " 25,\n",
              " 25,\n",
              " 25,\n",
              " 25,\n",
              " 10,\n",
              " 10,\n",
              " 10,\n",
              " 10,\n",
              " 10,\n",
              " 10,\n",
              " 10,\n",
              " 10,\n",
              " 10,\n",
              " 10,\n",
              " 10,\n",
              " 10,\n",
              " 10,\n",
              " 10,\n",
              " 10,\n",
              " 10,\n",
              " 10,\n",
              " 10,\n",
              " 10,\n",
              " 10,\n",
              " 10,\n",
              " 10,\n",
              " 10,\n",
              " 10,\n",
              " 10,\n",
              " 10,\n",
              " 10,\n",
              " 10,\n",
              " 10,\n",
              " 10,\n",
              " 10,\n",
              " 10,\n",
              " 10,\n",
              " 10,\n",
              " 10,\n",
              " 10,\n",
              " 10,\n",
              " 10,\n",
              " 10,\n",
              " 10,\n",
              " 10,\n",
              " 10,\n",
              " 10,\n",
              " 10,\n",
              " 10,\n",
              " 10,\n",
              " 10,\n",
              " 10,\n",
              " 10,\n",
              " 10,\n",
              " 10,\n",
              " 10,\n",
              " 10,\n",
              " 10,\n",
              " 10,\n",
              " 10,\n",
              " 10,\n",
              " 10,\n",
              " 10,\n",
              " 10,\n",
              " 10,\n",
              " 10,\n",
              " 10,\n",
              " 10,\n",
              " 10,\n",
              " 10,\n",
              " 10,\n",
              " 10,\n",
              " 10,\n",
              " 10,\n",
              " 10,\n",
              " 10,\n",
              " 10,\n",
              " 10,\n",
              " 10,\n",
              " 10,\n",
              " 10,\n",
              " 10,\n",
              " 10,\n",
              " 10,\n",
              " 0,\n",
              " 0,\n",
              " 0,\n",
              " 0,\n",
              " 29,\n",
              " 29,\n",
              " 29,\n",
              " 29,\n",
              " 29,\n",
              " 12,\n",
              " 12,\n",
              " 12,\n",
              " 12,\n",
              " 12,\n",
              " 12,\n",
              " 12,\n",
              " 12,\n",
              " 12,\n",
              " 12,\n",
              " 12,\n",
              " 12,\n",
              " 12,\n",
              " 12,\n",
              " 12,\n",
              " 12,\n",
              " 12,\n",
              " 12,\n",
              " 12,\n",
              " 12,\n",
              " 12,\n",
              " 12,\n",
              " 12,\n",
              " 12,\n",
              " 12,\n",
              " 12,\n",
              " 12,\n",
              " 12,\n",
              " 12,\n",
              " 12,\n",
              " 12,\n",
              " 12,\n",
              " 12,\n",
              " 12,\n",
              " 12,\n",
              " 12,\n",
              " 12,\n",
              " 12,\n",
              " 12,\n",
              " 12,\n",
              " 12,\n",
              " 12,\n",
              " 12,\n",
              " 12,\n",
              " 12,\n",
              " 12,\n",
              " 12,\n",
              " 12,\n",
              " 12,\n",
              " 12,\n",
              " 12,\n",
              " 12,\n",
              " 12,\n",
              " 12,\n",
              " 12,\n",
              " 12,\n",
              " 12,\n",
              " 12,\n",
              " 12,\n",
              " 12,\n",
              " 12,\n",
              " 12,\n",
              " 12,\n",
              " 12,\n",
              " 12,\n",
              " 12,\n",
              " 12,\n",
              " 12,\n",
              " 12,\n",
              " 12,\n",
              " 12,\n",
              " 12,\n",
              " 12,\n",
              " 12,\n",
              " 12,\n",
              " 12,\n",
              " 12,\n",
              " 12,\n",
              " 12,\n",
              " 12,\n",
              " 12,\n",
              " 12,\n",
              " 12,\n",
              " 12,\n",
              " 12,\n",
              " 36,\n",
              " 36,\n",
              " 36,\n",
              " 36,\n",
              " 36,\n",
              " 36,\n",
              " 36,\n",
              " 36,\n",
              " 36,\n",
              " 30,\n",
              " 30,\n",
              " 30,\n",
              " 30,\n",
              " 30,\n",
              " 30,\n",
              " 30,\n",
              " 30,\n",
              " 30,\n",
              " 30,\n",
              " 30,\n",
              " 30,\n",
              " 30,\n",
              " 30,\n",
              " 30,\n",
              " 30,\n",
              " 13,\n",
              " 13,\n",
              " 13,\n",
              " 13,\n",
              " 13,\n",
              " 13,\n",
              " 13,\n",
              " 13,\n",
              " 13,\n",
              " 13,\n",
              " 13,\n",
              " 13,\n",
              " 13,\n",
              " 13,\n",
              " 13,\n",
              " 13,\n",
              " 13,\n",
              " 13,\n",
              " 13,\n",
              " 13,\n",
              " 13,\n",
              " 13,\n",
              " 13,\n",
              " 13,\n",
              " 13,\n",
              " 13,\n",
              " 13,\n",
              " 13,\n",
              " 13,\n",
              " 13,\n",
              " 13,\n",
              " 13,\n",
              " 13,\n",
              " 13,\n",
              " 13,\n",
              " 13,\n",
              " 13,\n",
              " 13,\n",
              " 13,\n",
              " 13,\n",
              " 13,\n",
              " 13,\n",
              " 13,\n",
              " 13,\n",
              " 13,\n",
              " 13,\n",
              " 13,\n",
              " 13,\n",
              " 13,\n",
              " 13,\n",
              " 13,\n",
              " 13,\n",
              " 13,\n",
              " 13,\n",
              " 13,\n",
              " 13,\n",
              " 13,\n",
              " 13,\n",
              " 13,\n",
              " 13,\n",
              " 13,\n",
              " 13,\n",
              " 13,\n",
              " 13,\n",
              " 13,\n",
              " 13,\n",
              " 13,\n",
              " 13,\n",
              " 13,\n",
              " 13,\n",
              " 13,\n",
              " 13,\n",
              " 13,\n",
              " 13,\n",
              " 13,\n",
              " 13,\n",
              " 13,\n",
              " 13,\n",
              " 13,\n",
              " 13,\n",
              " 13,\n",
              " 13,\n",
              " 13,\n",
              " 33,\n",
              " 33,\n",
              " 33,\n",
              " 33,\n",
              " 33,\n",
              " 33,\n",
              " 33,\n",
              " 33,\n",
              " 33,\n",
              " 33,\n",
              " 33,\n",
              " 33,\n",
              " 33,\n",
              " 33,\n",
              " 33,\n",
              " 33,\n",
              " 31,\n",
              " 31,\n",
              " 34,\n",
              " 34,\n",
              " 34,\n",
              " 34,\n",
              " 34,\n",
              " 34,\n",
              " 34,\n",
              " 34,\n",
              " 34,\n",
              " 34,\n",
              " 34,\n",
              " 34,\n",
              " 9,\n",
              " 9,\n",
              " 9,\n",
              " 9,\n",
              " 9,\n",
              " 9,\n",
              " 9,\n",
              " 9,\n",
              " 9,\n",
              " 9,\n",
              " 9,\n",
              " 9,\n",
              " 9,\n",
              " 9,\n",
              " 9,\n",
              " 9,\n",
              " 9,\n",
              " 9,\n",
              " 9,\n",
              " 9,\n",
              " 9,\n",
              " 9,\n",
              " 9,\n",
              " 9,\n",
              " 9,\n",
              " 9,\n",
              " 9,\n",
              " 9,\n",
              " 9,\n",
              " 9,\n",
              " 9,\n",
              " 9,\n",
              " 9,\n",
              " 9,\n",
              " 9,\n",
              " 9,\n",
              " 9,\n",
              " 9,\n",
              " 9,\n",
              " 9,\n",
              " 9,\n",
              " 32,\n",
              " 32,\n",
              " 32,\n",
              " 32,\n",
              " 32,\n",
              " 32,\n",
              " 32,\n",
              " 32,\n",
              " 41,\n",
              " 41,\n",
              " 41,\n",
              " 41,\n",
              " 41,\n",
              " 41,\n",
              " 41,\n",
              " 7,\n",
              " 7,\n",
              " 7,\n",
              " 7,\n",
              " 7,\n",
              " 7,\n",
              " 7,\n",
              " 7,\n",
              " 7,\n",
              " 7,\n",
              " 7,\n",
              " 7,\n",
              " 7,\n",
              " 7,\n",
              " 7,\n",
              " 7,\n",
              " 7,\n",
              " 7,\n",
              " 7,\n",
              " 7,\n",
              " 7,\n",
              " 7,\n",
              " 7,\n",
              " 7,\n",
              " 7,\n",
              " 7,\n",
              " 7,\n",
              " 7,\n",
              " 7,\n",
              " 7,\n",
              " 7,\n",
              " 7,\n",
              " 7,\n",
              " 7,\n",
              " 7,\n",
              " 7,\n",
              " 7,\n",
              " 7,\n",
              " 7,\n",
              " 7,\n",
              " 7,\n",
              " 38,\n",
              " 38,\n",
              " 38,\n",
              " 38,\n",
              " 38,\n",
              " 38,\n",
              " 38,\n",
              " 38,\n",
              " 38,\n",
              " 38,\n",
              " 38,\n",
              " 38,\n",
              " 38,\n",
              " 38,\n",
              " 38,\n",
              " 38,\n",
              " 38,\n",
              " 38,\n",
              " 38,\n",
              " 38,\n",
              " 38,\n",
              " 38,\n",
              " 38,\n",
              " 38,\n",
              " 38,\n",
              " 38,\n",
              " 38,\n",
              " 38,\n",
              " 38,\n",
              " 38,\n",
              " 38,\n",
              " 38,\n",
              " 38,\n",
              " 38,\n",
              " 38,\n",
              " 38,\n",
              " 38,\n",
              " 38,\n",
              " 38,\n",
              " 38,\n",
              " 38,\n",
              " 38,\n",
              " 38,\n",
              " 38,\n",
              " 38,\n",
              " 38,\n",
              " 38,\n",
              " 38,\n",
              " 38,\n",
              " 38,\n",
              " 38,\n",
              " 38,\n",
              " 38,\n",
              " 38,\n",
              " 38,\n",
              " 38,\n",
              " 38,\n",
              " 38,\n",
              " 38,\n",
              " 38,\n",
              " 38,\n",
              " 38,\n",
              " 38,\n",
              " 38,\n",
              " 38,\n",
              " 38,\n",
              " 38,\n",
              " 38,\n",
              " 38,\n",
              " 38,\n",
              " 38,\n",
              " 38,\n",
              " 38,\n",
              " 38,\n",
              " 38,\n",
              " 38,\n",
              " 38,\n",
              " 38,\n",
              " 38,\n",
              " 38,\n",
              " 38,\n",
              " 38,\n",
              " 38,\n",
              " 38,\n",
              " 38,\n",
              " 38,\n",
              " 38,\n",
              " 38,\n",
              " 5,\n",
              " 5,\n",
              " ...]"
            ]
          },
          "metadata": {},
          "execution_count": 10
        }
      ]
    },
    {
      "cell_type": "code",
      "source": [
        "arrays[1]"
      ],
      "metadata": {
        "colab": {
          "base_uri": "https://localhost:8080/",
          "height": 71
        },
        "id": "KcjOO_KNWT6u",
        "outputId": "6fb7bd98-7264-4408-e3d2-eacd45023755"
      },
      "id": "KcjOO_KNWT6u",
      "execution_count": null,
      "outputs": [
        {
          "output_type": "execute_result",
          "data": {
            "text/plain": [
              "array([[[167, 195, 242],\n",
              "        [168, 195, 243],\n",
              "        [169, 195, 243],\n",
              "        ...,\n",
              "        [113, 126, 147],\n",
              "        [117, 130, 153],\n",
              "        [123, 133, 159]],\n",
              "\n",
              "       [[165, 194, 241],\n",
              "        [166, 194, 242],\n",
              "        [169, 194, 243],\n",
              "        ...,\n",
              "        [111, 122, 146],\n",
              "        [114, 124, 148],\n",
              "        [117, 126, 151]],\n",
              "\n",
              "       [[162, 192, 240],\n",
              "        [164, 192, 241],\n",
              "        [168, 193, 244],\n",
              "        ...,\n",
              "        [107, 116, 145],\n",
              "        [109, 115, 142],\n",
              "        [109, 116, 141]],\n",
              "\n",
              "       ...,\n",
              "\n",
              "       [[106, 118, 149],\n",
              "        [105, 118, 147],\n",
              "        [ 99, 114, 139],\n",
              "        ...,\n",
              "        [ 47,  49,  63],\n",
              "        [ 48,  51,  57],\n",
              "        [ 51,  52,  56]],\n",
              "\n",
              "       [[ 99, 110, 136],\n",
              "        [ 99, 108, 132],\n",
              "        [ 95, 103, 125],\n",
              "        ...,\n",
              "        [ 47,  49,  64],\n",
              "        [ 49,  52,  59],\n",
              "        [ 53,  56,  59]],\n",
              "\n",
              "       [[ 95, 105, 125],\n",
              "        [ 93, 100, 119],\n",
              "        [ 88,  93, 111],\n",
              "        ...,\n",
              "        [ 46,  49,  64],\n",
              "        [ 49,  52,  60],\n",
              "        [ 55,  58,  61]]], dtype=uint8)"
            ],
            "text/html": [
              "<style>\n",
              "      .ndarray_repr .ndarray_raw_data {\n",
              "        display: none;\n",
              "      }\n",
              "      .ndarray_repr.show_array .ndarray_raw_data {\n",
              "        display: block;\n",
              "      }\n",
              "      .ndarray_repr.show_array .ndarray_image_preview {\n",
              "        display: none;\n",
              "      }\n",
              "      </style>\n",
              "      <div id=\"id-fd179a9e-5909-4d2d-920a-9c1f9618ef6b\" class=\"ndarray_repr\"><pre>ndarray (30, 30, 3) <button style=\"padding: 0 2px;\">show data</button></pre><img src=\"data:image/png;base64,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\" class=\"ndarray_image_preview\" /><pre class=\"ndarray_raw_data\">array([[[167, 195, 242],\n",
              "        [168, 195, 243],\n",
              "        [169, 195, 243],\n",
              "        ...,\n",
              "        [113, 126, 147],\n",
              "        [117, 130, 153],\n",
              "        [123, 133, 159]],\n",
              "\n",
              "       [[165, 194, 241],\n",
              "        [166, 194, 242],\n",
              "        [169, 194, 243],\n",
              "        ...,\n",
              "        [111, 122, 146],\n",
              "        [114, 124, 148],\n",
              "        [117, 126, 151]],\n",
              "\n",
              "       [[162, 192, 240],\n",
              "        [164, 192, 241],\n",
              "        [168, 193, 244],\n",
              "        ...,\n",
              "        [107, 116, 145],\n",
              "        [109, 115, 142],\n",
              "        [109, 116, 141]],\n",
              "\n",
              "       ...,\n",
              "\n",
              "       [[106, 118, 149],\n",
              "        [105, 118, 147],\n",
              "        [ 99, 114, 139],\n",
              "        ...,\n",
              "        [ 47,  49,  63],\n",
              "        [ 48,  51,  57],\n",
              "        [ 51,  52,  56]],\n",
              "\n",
              "       [[ 99, 110, 136],\n",
              "        [ 99, 108, 132],\n",
              "        [ 95, 103, 125],\n",
              "        ...,\n",
              "        [ 47,  49,  64],\n",
              "        [ 49,  52,  59],\n",
              "        [ 53,  56,  59]],\n",
              "\n",
              "       [[ 95, 105, 125],\n",
              "        [ 93, 100, 119],\n",
              "        [ 88,  93, 111],\n",
              "        ...,\n",
              "        [ 46,  49,  64],\n",
              "        [ 49,  52,  60],\n",
              "        [ 55,  58,  61]]], dtype=uint8)</pre></div><script>\n",
              "      (() => {\n",
              "      const titles = ['show data', 'hide data'];\n",
              "      let index = 0\n",
              "      document.querySelector('#id-fd179a9e-5909-4d2d-920a-9c1f9618ef6b button').onclick = (e) => {\n",
              "        document.querySelector('#id-fd179a9e-5909-4d2d-920a-9c1f9618ef6b').classList.toggle('show_array');\n",
              "        index = (++index) % 2;\n",
              "        document.querySelector('#id-fd179a9e-5909-4d2d-920a-9c1f9618ef6b button').textContent = titles[index];\n",
              "        e.preventDefault();\n",
              "        e.stopPropagation();\n",
              "      }\n",
              "      })();\n",
              "    </script>"
            ]
          },
          "metadata": {},
          "execution_count": 21
        }
      ]
    },
    {
      "cell_type": "markdown",
      "metadata": {
        "id": "NUY3yNrdaABY"
      },
      "source": [
        "### Data Exploration and Preprocessing ( 2 points)"
      ],
      "id": "NUY3yNrdaABY"
    },
    {
      "cell_type": "markdown",
      "metadata": {
        "id": "9ca63666"
      },
      "source": [
        "#### Plot the sample image of each class\n",
        "\n",
        "Hint: plt.subplot"
      ],
      "id": "9ca63666"
    },
    {
      "cell_type": "markdown",
      "source": [
        "#### Getting all the first images from each sub folder"
      ],
      "metadata": {
        "id": "ayAWUFtGq0GI"
      },
      "id": "ayAWUFtGq0GI"
    },
    {
      "cell_type": "code",
      "metadata": {
        "id": "c414e14e"
      },
      "source": [
        "# YOUR CODE HERE\n",
        "\n",
        "main_dir = \"images_in_png\"\n",
        "\n",
        "# Get all subfolders (class names)\n",
        "class_folders = [f for f in os.listdir(main_dir) if os.path.isdir(os.path.join(main_dir, f))]\n",
        "\n",
        "# Dictionary to store one sample image per folder\n",
        "sample_images = {}\n",
        "\n",
        "for class_name in class_folders:\n",
        "    class_path = os.path.join(main_dir, class_name)\n",
        "\n",
        "    # Get all image files inside the class folder (modify extension if needed)\n",
        "    image_files = glob.glob(os.path.join(class_path, \"*.png\"))\n",
        "\n",
        "    if image_files:  # Ensure there are images\n",
        "        sample_images[class_name] = image_files[0]  # Pick the first image"
      ],
      "id": "c414e14e",
      "execution_count": null,
      "outputs": []
    },
    {
      "cell_type": "markdown",
      "source": [
        "#### Plotting all the images in the dataset"
      ],
      "metadata": {
        "id": "a_DmvyYcqnrr"
      },
      "id": "a_DmvyYcqnrr"
    },
    {
      "cell_type": "code",
      "source": [
        "num_classes = len(sample_images)\n",
        "plt.figure(figsize=(20, 5))  # Adjust figure size dynamically\n",
        "\n",
        "for i, (class_name, image_path) in enumerate(sample_images.items()):\n",
        "    img = Image.open(image_path)  # Open image\n",
        "    img_array = np.array(img)  # Convert to array\n",
        "\n",
        "    plt.subplot(1, num_classes, i + 1)  # 1 row, `num_classes` columns\n",
        "    plt.imshow(img_array)\n",
        "    plt.title(class_name)\n",
        "    plt.axis(\"off\")\n",
        "\n",
        "plt.tight_layout()\n",
        "plt.show()"
      ],
      "metadata": {
        "colab": {
          "base_uri": "https://localhost:8080/",
          "height": 77
        },
        "id": "ZBzTFKCGqHFE",
        "outputId": "1d592841-1736-479b-9733-e03ff24a60b1"
      },
      "id": "ZBzTFKCGqHFE",
      "execution_count": null,
      "outputs": [
        {
          "output_type": "display_data",
          "data": {
            "text/plain": [
              "<Figure size 2000x500 with 43 Axes>"
            ],
            "image/png": "[encoded data removed]"
          },
          "metadata": {}
        }
      ]
    },
    {
      "cell_type": "markdown",
      "metadata": {
        "id": "8a2rqCM-sIbY"
      },
      "source": [
        "#### Plot the distribution of Classes"
      ],
      "id": "8a2rqCM-sIbY"
    },
    {
      "cell_type": "code",
      "metadata": {
        "id": "nwWKGQMFsIDP"
      },
      "source": [
        "# YOUR CODE HERE\n",
        "main_dir = \"images_in_png\"\n",
        "class_folders = [f for f in os.listdir(main_dir) if os.path.isdir(os.path.join(main_dir, f))]"
      ],
      "id": "nwWKGQMFsIDP",
      "execution_count": null,
      "outputs": []
    },
    {
      "cell_type": "code",
      "source": [
        "class_counts = {}\n",
        "for class_name in class_folders:\n",
        "\n",
        "    class_length = len(os.listdir(os.path.join(main_dir, class_name)))\n",
        "    print(f\"Class: {class_name}, Length: {class_length}\")\n",
        "\n",
        "    class_counts[class_name] = class_length\n",
        "\n",
        "# Sort by class name (optional)\n",
        "class_counts = dict(sorted(class_counts.items(), key=lambda item: item[1], reverse=True))\n",
        "plt.figure(figsize=(12, 6))\n",
        "plt.bar(class_counts.keys(), class_counts.values(), color='skyblue')\n",
        "\n",
        "plt.xlabel(\"Class Name\")\n",
        "plt.ylabel(\"Number of Images\")\n",
        "plt.title(\"Image Distribution Across Classes\")\n",
        "plt.xticks(rotation=45, ha=\"right\")  # Rotate labels for readability\n",
        "plt.grid(axis=\"y\", linestyle=\"--\", alpha=0.7)\n",
        "\n",
        "plt.show()"
      ],
      "metadata": {
        "colab": {
          "base_uri": "https://localhost:8080/",
          "height": 1000
        },
        "id": "Iu58A0MerqfY",
        "outputId": "9fc2de72-f895-4702-adb2-4b43228d3cfb"
      },
      "id": "Iu58A0MerqfY",
      "execution_count": null,
      "outputs": [
        {
          "output_type": "stream",
          "name": "stdout",
          "text": [
            "Class: 04, Length: 68\n",
            "Class: 39, Length: 6\n",
            "Class: 40, Length: 10\n",
            "Class: 42, Length: 11\n",
            "Class: 37, Length: 2\n",
            "Class: 06, Length: 19\n",
            "Class: 26, Length: 18\n",
            "Class: 35, Length: 20\n",
            "Class: 27, Length: 3\n",
            "Class: 14, Length: 32\n",
            "Class: 15, Length: 15\n",
            "Class: 11, Length: 38\n",
            "Class: 08, Length: 57\n",
            "Class: 17, Length: 29\n",
            "Class: 23, Length: 20\n",
            "Class: 21, Length: 5\n",
            "Class: 18, Length: 38\n",
            "Class: 01, Length: 79\n",
            "Class: 25, Length: 31\n",
            "Class: 10, Length: 80\n",
            "Class: 00, Length: 4\n",
            "Class: 29, Length: 5\n",
            "Class: 12, Length: 85\n",
            "Class: 36, Length: 9\n",
            "Class: 30, Length: 16\n",
            "Class: 13, Length: 83\n",
            "Class: 33, Length: 16\n",
            "Class: 31, Length: 2\n",
            "Class: 34, Length: 12\n",
            "Class: 09, Length: 41\n",
            "Class: 32, Length: 8\n",
            "Class: 41, Length: 7\n",
            "Class: 07, Length: 41\n",
            "Class: 38, Length: 88\n",
            "Class: 05, Length: 53\n",
            "Class: 24, Length: 5\n",
            "Class: 20, Length: 9\n",
            "Class: 02, Length: 81\n",
            "Class: 16, Length: 8\n",
            "Class: 22, Length: 13\n",
            "Class: 19, Length: 2\n",
            "Class: 28, Length: 14\n",
            "Class: 03, Length: 30\n"
          ]
        },
        {
          "output_type": "display_data",
          "data": {
            "text/plain": [
              "<Figure size 1200x600 with 1 Axes>"
            ],
            "image/png": "[encoded data removed]"
          },
          "metadata": {}
        }
      ]
    },
    {
      "cell_type": "markdown",
      "metadata": {
        "id": "37b23a0b"
      },
      "source": [
        "#### Normalize the features\n",
        "\n",
        "For most image data, the pixel values are integers with values between 0 and 255.\n",
        "\n",
        "Neural networks process inputs using small weight values, and inputs with large integer values can disrupt or slow down the learning process. As such it is good practice to normalize the pixel values.\n",
        "\n",
        "Hint: sklearn.preprocessing.normalize"
      ],
      "id": "37b23a0b"
    },
    {
      "cell_type": "code",
      "source": [
        "# Reshape to 2D (900x3) for normalization\n",
        "image_array = np.array(arrays)"
      ],
      "metadata": {
        "id": "V8blbFWS0slq"
      },
      "id": "V8blbFWS0slq",
      "execution_count": null,
      "outputs": []
    },
    {
      "cell_type": "code",
      "source": [
        "image_array"
      ],
      "metadata": {
        "colab": {
          "base_uri": "https://localhost:8080/"
        },
        "id": "M7iiBiZrWu7k",
        "outputId": "3530e609-037f-4bf7-d68d-0089ef2a1826"
      },
      "id": "M7iiBiZrWu7k",
      "execution_count": null,
      "outputs": [
        {
          "output_type": "execute_result",
          "data": {
            "text/plain": [
              "array([[[[ 28,  24,  22],\n",
              "         [ 27,  24,  22],\n",
              "         [ 26,  23,  21],\n",
              "         ...,\n",
              "         [ 40,  28,  22],\n",
              "         [ 37,  28,  22],\n",
              "         [ 36,  28,  22]],\n",
              "\n",
              "        [[ 31,  26,  25],\n",
              "         [ 28,  25,  24],\n",
              "         [ 28,  25,  23],\n",
              "         ...,\n",
              "         [ 35,  25,  22],\n",
              "         [ 36,  27,  23],\n",
              "         [ 36,  27,  23]],\n",
              "\n",
              "        [[ 32,  26,  25],\n",
              "         [ 31,  25,  25],\n",
              "         [ 30,  25,  23],\n",
              "         ...,\n",
              "         [ 35,  27,  23],\n",
              "         [ 38,  30,  26],\n",
              "         [ 38,  27,  23]],\n",
              "\n",
              "        ...,\n",
              "\n",
              "        [[ 23,  21,  22],\n",
              "         [ 24,  22,  23],\n",
              "         [ 24,  22,  22],\n",
              "         ...,\n",
              "         [ 21,  19,  20],\n",
              "         [ 23,  18,  18],\n",
              "         [ 25,  20,  20]],\n",
              "\n",
              "        [[ 25,  21,  22],\n",
              "         [ 26,  22,  22],\n",
              "         [ 25,  21,  21],\n",
              "         ...,\n",
              "         [ 23,  20,  21],\n",
              "         [ 26,  21,  21],\n",
              "         [ 27,  22,  22]],\n",
              "\n",
              "        [[ 27,  23,  23],\n",
              "         [ 27,  23,  23],\n",
              "         [ 28,  23,  23],\n",
              "         ...,\n",
              "         [ 23,  20,  20],\n",
              "         [ 27,  22,  22],\n",
              "         [ 28,  23,  23]]],\n",
              "\n",
              "\n",
              "       [[[167, 195, 242],\n",
              "         [168, 195, 243],\n",
              "         [169, 195, 243],\n",
              "         ...,\n",
              "         [113, 126, 147],\n",
              "         [117, 130, 153],\n",
              "         [123, 133, 159]],\n",
              "\n",
              "        [[165, 194, 241],\n",
              "         [166, 194, 242],\n",
              "         [169, 194, 243],\n",
              "         ...,\n",
              "         [111, 122, 146],\n",
              "         [114, 124, 148],\n",
              "         [117, 126, 151]],\n",
              "\n",
              "        [[162, 192, 240],\n",
              "         [164, 192, 241],\n",
              "         [168, 193, 244],\n",
              "         ...,\n",
              "         [107, 116, 145],\n",
              "         [109, 115, 142],\n",
              "         [109, 116, 141]],\n",
              "\n",
              "        ...,\n",
              "\n",
              "        [[106, 118, 149],\n",
              "         [105, 118, 147],\n",
              "         [ 99, 114, 139],\n",
              "         ...,\n",
              "         [ 47,  49,  63],\n",
              "         [ 48,  51,  57],\n",
              "         [ 51,  52,  56]],\n",
              "\n",
              "        [[ 99, 110, 136],\n",
              "         [ 99, 108, 132],\n",
              "         [ 95, 103, 125],\n",
              "         ...,\n",
              "         [ 47,  49,  64],\n",
              "         [ 49,  52,  59],\n",
              "         [ 53,  56,  59]],\n",
              "\n",
              "        [[ 95, 105, 125],\n",
              "         [ 93, 100, 119],\n",
              "         [ 88,  93, 111],\n",
              "         ...,\n",
              "         [ 46,  49,  64],\n",
              "         [ 49,  52,  60],\n",
              "         [ 55,  58,  61]]],\n",
              "\n",
              "\n",
              "       [[[ 28,  27,  26],\n",
              "         [ 24,  26,  25],\n",
              "         [ 31,  43,  42],\n",
              "         ...,\n",
              "         [ 27,  29,  25],\n",
              "         [ 30,  33,  36],\n",
              "         [ 54,  53,  54]],\n",
              "\n",
              "        [[ 49,  36,  29],\n",
              "         [ 28,  30,  25],\n",
              "         [ 43,  54,  57],\n",
              "         ...,\n",
              "         [ 29,  30,  28],\n",
              "         [ 31,  34,  30],\n",
              "         [ 56,  53,  48]],\n",
              "\n",
              "        [[ 96,  81,  49],\n",
              "         [ 49,  47,  31],\n",
              "         [ 49,  54,  62],\n",
              "         ...,\n",
              "         [ 33,  37,  29],\n",
              "         [ 31,  43,  35],\n",
              "         [ 52,  60,  53]],\n",
              "\n",
              "        ...,\n",
              "\n",
              "        [[ 20,  23,  25],\n",
              "         [ 25,  28,  26],\n",
              "         [ 34,  40,  36],\n",
              "         ...,\n",
              "         [ 36,  35,  35],\n",
              "         [ 41,  35,  35],\n",
              "         [ 29,  32,  29]],\n",
              "\n",
              "        [[ 28,  32,  32],\n",
              "         [ 29,  33,  28],\n",
              "         [ 27,  40,  39],\n",
              "         ...,\n",
              "         [ 36,  36,  41],\n",
              "         [ 42,  36,  42],\n",
              "         [ 27,  27,  26]],\n",
              "\n",
              "        [[ 35,  37,  31],\n",
              "         [ 36,  40,  34],\n",
              "         [ 40,  50,  44],\n",
              "         ...,\n",
              "         [ 27,  29,  28],\n",
              "         [ 26,  27,  27],\n",
              "         [ 25,  26,  27]]],\n",
              "\n",
              "\n",
              "       ...,\n",
              "\n",
              "\n",
              "       [[[ 43,  44,  38],\n",
              "         [ 46,  46,  40],\n",
              "         [ 38,  38,  31],\n",
              "         ...,\n",
              "         [ 27,  29,  24],\n",
              "         [ 26,  29,  24],\n",
              "         [ 30,  32,  26]],\n",
              "\n",
              "        [[ 47,  47,  40],\n",
              "         [ 40,  37,  31],\n",
              "         [ 30,  28,  23],\n",
              "         ...,\n",
              "         [ 26,  29,  24],\n",
              "         [ 27,  31,  25],\n",
              "         [ 32,  34,  27]],\n",
              "\n",
              "        [[ 40,  40,  32],\n",
              "         [ 35,  34,  28],\n",
              "         [ 28,  28,  24],\n",
              "         ...,\n",
              "         [ 27,  31,  26],\n",
              "         [ 32,  35,  28],\n",
              "         [ 36,  38,  29]],\n",
              "\n",
              "        ...,\n",
              "\n",
              "        [[ 30,  32,  27],\n",
              "         [ 30,  32,  29],\n",
              "         [ 28,  31,  30],\n",
              "         ...,\n",
              "         [ 31,  31,  24],\n",
              "         [ 29,  30,  24],\n",
              "         [ 29,  30,  26]],\n",
              "\n",
              "        [[ 31,  33,  29],\n",
              "         [ 31,  34,  31],\n",
              "         [ 31,  33,  31],\n",
              "         ...,\n",
              "         [ 31,  31,  25],\n",
              "         [ 30,  31,  26],\n",
              "         [ 29,  30,  26]],\n",
              "\n",
              "        [[ 28,  30,  27],\n",
              "         [ 29,  33,  31],\n",
              "         [ 34,  36,  35],\n",
              "         ...,\n",
              "         [ 31,  31,  26],\n",
              "         [ 30,  31,  27],\n",
              "         [ 30,  31,  27]]],\n",
              "\n",
              "\n",
              "       [[[ 40,  41,  39],\n",
              "         [ 42,  44,  42],\n",
              "         [ 42,  44,  42],\n",
              "         ...,\n",
              "         [ 51,  55,  53],\n",
              "         [ 53,  56,  54],\n",
              "         [ 52,  55,  53]],\n",
              "\n",
              "        [[ 42,  43,  42],\n",
              "         [ 42,  43,  42],\n",
              "         [ 43,  44,  43],\n",
              "         ...,\n",
              "         [ 51,  55,  53],\n",
              "         [ 51,  54,  51],\n",
              "         [ 52,  53,  50]],\n",
              "\n",
              "        [[ 41,  42,  41],\n",
              "         [ 42,  42,  42],\n",
              "         [ 43,  43,  43],\n",
              "         ...,\n",
              "         [ 49,  53,  51],\n",
              "         [ 50,  52,  49],\n",
              "         [ 52,  52,  50]],\n",
              "\n",
              "        ...,\n",
              "\n",
              "        [[ 37,  37,  38],\n",
              "         [ 35,  35,  35],\n",
              "         [ 38,  36,  35],\n",
              "         ...,\n",
              "         [ 41,  41,  38],\n",
              "         [ 39,  39,  35],\n",
              "         [ 42,  40,  39]],\n",
              "\n",
              "        [[ 37,  37,  37],\n",
              "         [ 36,  35,  35],\n",
              "         [ 39,  37,  36],\n",
              "         ...,\n",
              "         [ 38,  39,  37],\n",
              "         [ 39,  38,  35],\n",
              "         [ 41,  39,  38]],\n",
              "\n",
              "        [[ 37,  37,  37],\n",
              "         [ 37,  36,  35],\n",
              "         [ 39,  36,  34],\n",
              "         ...,\n",
              "         [ 40,  40,  38],\n",
              "         [ 42,  40,  38],\n",
              "         [ 44,  41,  40]]],\n",
              "\n",
              "\n",
              "       [[[ 62,  50,  34],\n",
              "         [ 64,  50,  34],\n",
              "         [ 68,  54,  37],\n",
              "         ...,\n",
              "         [ 41,  36,  29],\n",
              "         [ 41,  36,  29],\n",
              "         [ 38,  34,  28]],\n",
              "\n",
              "        [[ 64,  52,  37],\n",
              "         [ 67,  54,  38],\n",
              "         [ 77,  58,  42],\n",
              "         ...,\n",
              "         [ 41,  36,  28],\n",
              "         [ 34,  33,  26],\n",
              "         [ 36,  34,  28]],\n",
              "\n",
              "        [[ 68,  53,  40],\n",
              "         [ 71,  54,  39],\n",
              "         [ 74,  52,  37],\n",
              "         ...,\n",
              "         [ 35,  33,  26],\n",
              "         [ 35,  34,  27],\n",
              "         [ 38,  37,  28]],\n",
              "\n",
              "        ...,\n",
              "\n",
              "        [[ 47,  43,  32],\n",
              "         [ 46,  41,  31],\n",
              "         [ 42,  40,  32],\n",
              "         ...,\n",
              "         [ 52,  48,  38],\n",
              "         [ 59,  52,  40],\n",
              "         [ 66,  57,  43]],\n",
              "\n",
              "        [[ 43,  38,  28],\n",
              "         [ 43,  37,  29],\n",
              "         [ 39,  35,  28],\n",
              "         ...,\n",
              "         [115, 111, 106],\n",
              "         [123, 116, 112],\n",
              "         [130, 124, 123]],\n",
              "\n",
              "        [[ 85,  69,  61],\n",
              "         [ 82,  70,  65],\n",
              "         [ 81,  71,  66],\n",
              "         ...,\n",
              "         [155, 159, 165],\n",
              "         [162, 166, 175],\n",
              "         [164, 168, 178]]]], dtype=uint8)"
            ]
          },
          "metadata": {},
          "execution_count": 18
        }
      ]
    },
    {
      "cell_type": "code",
      "source": [
        "normalized_images = image_array / 255.0"
      ],
      "metadata": {
        "collapsed": true,
        "id": "Xz92FtxX2BZ6"
      },
      "id": "Xz92FtxX2BZ6",
      "execution_count": null,
      "outputs": []
    },
    {
      "cell_type": "code",
      "source": [
        "len(normalized_images)"
      ],
      "metadata": {
        "collapsed": true,
        "colab": {
          "base_uri": "https://localhost:8080/"
        },
        "id": "zGfnU_802Jt3",
        "outputId": "50e9ab38-68cb-4a4d-e504-206a311d9a81"
      },
      "id": "zGfnU_802Jt3",
      "execution_count": null,
      "outputs": [
        {
          "output_type": "execute_result",
          "data": {
            "text/plain": [
              "1213"
            ]
          },
          "metadata": {},
          "execution_count": 14
        }
      ]
    },
    {
      "cell_type": "code",
      "source": [
        "len(labels)"
      ],
      "metadata": {
        "colab": {
          "base_uri": "https://localhost:8080/"
        },
        "id": "T25nUj6a2xIK",
        "outputId": "0825f737-8ca8-4d88-9aea-9f0b1348d0f5"
      },
      "id": "T25nUj6a2xIK",
      "execution_count": null,
      "outputs": [
        {
          "output_type": "execute_result",
          "data": {
            "text/plain": [
              "1213"
            ]
          },
          "metadata": {},
          "execution_count": 15
        }
      ]
    },
    {
      "cell_type": "markdown",
      "metadata": {
        "id": "28ea9c3a"
      },
      "source": [
        "### Train the MLP classifier on features (1 point)\n",
        "\n",
        "* Split the data into train and test\n",
        "\n",
        "* Train the MLP classifier with different parameters\n",
        "\n",
        "* Get the accuracy score and performance metrics"
      ],
      "id": "28ea9c3a"
    },
    {
      "cell_type": "code",
      "metadata": {
        "id": "7f952950"
      },
      "source": [
        "# YOUR CODE HERE\n",
        "X_train, X_test, y_train, y_test = train_test_split(normalized_images, labels, test_size=0.2, random_state=42)"
      ],
      "id": "7f952950",
      "execution_count": null,
      "outputs": []
    },
    {
      "cell_type": "code",
      "source": [
        "X_flattened = X_train.reshape(X_train.shape[0], -1)\n",
        "X_test_flattened = X_test.reshape(X_test.shape[0], -1)"
      ],
      "metadata": {
        "id": "QbQJzyJCUS0u"
      },
      "id": "QbQJzyJCUS0u",
      "execution_count": null,
      "outputs": []
    },
    {
      "cell_type": "code",
      "source": [
        "y_train = np.array(y_train)\n",
        "y_test = np.array(y_test)"
      ],
      "metadata": {
        "id": "U6YR9T1cZsAe"
      },
      "id": "U6YR9T1cZsAe",
      "execution_count": null,
      "outputs": []
    },
    {
      "cell_type": "code",
      "source": [
        "X_flattened.shape"
      ],
      "metadata": {
        "colab": {
          "base_uri": "https://localhost:8080/"
        },
        "id": "7PzxLoXDTx3e",
        "outputId": "c835eb01-37d6-4532-f6f3-996f2ca6714c"
      },
      "id": "7PzxLoXDTx3e",
      "execution_count": null,
      "outputs": [
        {
          "output_type": "execute_result",
          "data": {
            "text/plain": [
              "(970, 2700)"
            ]
          },
          "metadata": {},
          "execution_count": 26
        }
      ]
    },
    {
      "cell_type": "code",
      "source": [
        "X_test_flattened.shape"
      ],
      "metadata": {
        "colab": {
          "base_uri": "https://localhost:8080/"
        },
        "id": "12KCEc-QZj0g",
        "outputId": "8351126e-f3d6-4bab-a52c-1e5095621678"
      },
      "id": "12KCEc-QZj0g",
      "execution_count": null,
      "outputs": [
        {
          "output_type": "execute_result",
          "data": {
            "text/plain": [
              "(243, 2700)"
            ]
          },
          "metadata": {},
          "execution_count": 20
        }
      ]
    },
    {
      "cell_type": "code",
      "source": [
        "y_train.shape,y_test.shape"
      ],
      "metadata": {
        "colab": {
          "base_uri": "https://localhost:8080/"
        },
        "id": "nwNLhG7DTzYv",
        "outputId": "646b8a6c-b9d1-411b-ba4d-0083ccf7eab3"
      },
      "id": "nwNLhG7DTzYv",
      "execution_count": null,
      "outputs": [
        {
          "output_type": "execute_result",
          "data": {
            "text/plain": [
              "((970,), (243,))"
            ]
          },
          "metadata": {},
          "execution_count": 27
        }
      ]
    },
    {
      "cell_type": "markdown",
      "metadata": {
        "id": "dfe1e294"
      },
      "source": [
        "### Tune the hyper-parameters (2 points)\n",
        "\n",
        "* Use the GridSearchCV or RandomizedSearchCV and select best parameters\n",
        "\n",
        "  Hint: [GridSearchCV](https://scikit-learn.org/stable/modules/generated/sklearn.model_selection.GridSearchCV.html), [RandomizedSearchCV](https://scikit-learn.org/stable/modules/generated/sklearn.model_selection.RandomizedSearchCV.html)\n",
        "\n",
        "  (or)\n",
        "* Manually change and find the best parameters\n",
        "\n",
        "To know about all the parameters, click [here](https://scikit-learn.org/stable/modules/generated/sklearn.neural_network.MLPClassifier.html)"
      ],
      "id": "dfe1e294"
    },
    {
      "cell_type": "code",
      "source": [
        "param_grid = {\n",
        "    'batch_size': [20,50,45,30,25,10,15],\n",
        "    'optimizer': ['adam', 'rmsprop'], # Pass optimizer directly to create_model\n",
        "    'n_neurons': [128, 64, 32], # Experiment with different neuron counts\n",
        "}"
      ],
      "metadata": {
        "id": "XUGyb3wgWTHl"
      },
      "id": "XUGyb3wgWTHl",
      "execution_count": null,
      "outputs": []
    },
    {
      "cell_type": "code",
      "source": [
        "def create_model(n_neurons=32, optimizer='adam', hidden_activation='relu'):\n",
        "    model = Sequential([\n",
        "        Dense(n_neurons, activation= hidden_activation, input_dim=X_flattened.shape[1]),\n",
        "        Dense(64, activation=hidden_activation),  # Assuming 64 neurons in this layer\n",
        "        Dense(32, activation=hidden_activation),\n",
        "        Dense(43, activation='softmax')  # Output layer\n",
        "    ])\n",
        "    model.compile(optimizer=optimizer, loss='sparse_categorical_crossentropy', metrics=['accuracy'])\n",
        "    return model"
      ],
      "metadata": {
        "id": "hhaL27zBUijC"
      },
      "id": "hhaL27zBUijC",
      "execution_count": null,
      "outputs": []
    },
    {
      "cell_type": "code",
      "source": [
        "!pip install scikit-learn==1.3.1"
      ],
      "metadata": {
        "colab": {
          "base_uri": "https://localhost:8080/",
          "height": 412
        },
        "id": "wtQOn2XZtZKn",
        "outputId": "41e8beed-be27-427a-e9f8-729d0c38f5b3"
      },
      "id": "wtQOn2XZtZKn",
      "execution_count": null,
      "outputs": [
        {
          "output_type": "stream",
          "name": "stdout",
          "text": [
            "Collecting scikit-learn==1.3.1\n",
            "  Using cached scikit_learn-1.3.1-cp311-cp311-manylinux_2_17_x86_64.manylinux2014_x86_64.whl.metadata (11 kB)\n",
            "Requirement already satisfied: numpy<2.0,>=1.17.3 in /usr/local/lib/python3.11/dist-packages (from scikit-learn==1.3.1) (1.26.4)\n",
            "Requirement already satisfied: scipy>=1.5.0 in /usr/local/lib/python3.11/dist-packages (from scikit-learn==1.3.1) (1.13.1)\n",
            "Requirement already satisfied: joblib>=1.1.1 in /usr/local/lib/python3.11/dist-packages (from scikit-learn==1.3.1) (1.4.2)\n",
            "Requirement already satisfied: threadpoolctl>=2.0.0 in /usr/local/lib/python3.11/dist-packages (from scikit-learn==1.3.1) (3.5.0)\n",
            "Using cached scikit_learn-1.3.1-cp311-cp311-manylinux_2_17_x86_64.manylinux2014_x86_64.whl (10.9 MB)\n",
            "Installing collected packages: scikit-learn\n",
            "  Attempting uninstall: scikit-learn\n",
            "    Found existing installation: scikit-learn 1.6.1\n",
            "    Uninstalling scikit-learn-1.6.1:\n",
            "      Successfully uninstalled scikit-learn-1.6.1\n",
            "\u001b[31mERROR: pip's dependency resolver does not currently take into account all the packages that are installed. This behaviour is the source of the following dependency conflicts.\n",
            "scikeras 0.13.0 requires scikit-learn>=1.4.2, but you have scikit-learn 1.3.1 which is incompatible.\n",
            "imbalanced-learn 0.13.0 requires scikit-learn<2,>=1.3.2, but you have scikit-learn 1.3.1 which is incompatible.\u001b[0m\u001b[31m\n",
            "\u001b[0mSuccessfully installed scikit-learn-1.3.1\n"
          ]
        },
        {
          "output_type": "display_data",
          "data": {
            "application/vnd.colab-display-data+json": {
              "pip_warning": {
                "packages": [
                  "sklearn"
                ]
              },
              "id": "996c0e479bfa4625907571e0ca4c2e6f"
            }
          },
          "metadata": {}
        }
      ]
    },
    {
      "cell_type": "code",
      "source": [
        "!pip install scikeras"
      ],
      "metadata": {
        "colab": {
          "base_uri": "https://localhost:8080/"
        },
        "id": "ZG5n8Hizu5JO",
        "outputId": "8661673f-31a5-4cee-a14f-ac15270ce7f7"
      },
      "id": "ZG5n8Hizu5JO",
      "execution_count": null,
      "outputs": [
        {
          "output_type": "stream",
          "name": "stdout",
          "text": [
            "Requirement already satisfied: scikeras in /usr/local/lib/python3.11/dist-packages (0.13.0)\n",
            "Requirement already satisfied: keras>=3.2.0 in /usr/local/lib/python3.11/dist-packages (from scikeras) (3.8.0)\n",
            "Collecting scikit-learn>=1.4.2 (from scikeras)\n",
            "  Using cached scikit_learn-1.6.1-cp311-cp311-manylinux_2_17_x86_64.manylinux2014_x86_64.whl.metadata (18 kB)\n",
            "Requirement already satisfied: absl-py in /usr/local/lib/python3.11/dist-packages (from keras>=3.2.0->scikeras) (1.4.0)\n",
            "Requirement already satisfied: numpy in /usr/local/lib/python3.11/dist-packages (from keras>=3.2.0->scikeras) (1.26.4)\n",
            "Requirement already satisfied: rich in /usr/local/lib/python3.11/dist-packages (from keras>=3.2.0->scikeras) (13.9.4)\n",
            "Requirement already satisfied: namex in /usr/local/lib/python3.11/dist-packages (from keras>=3.2.0->scikeras) (0.0.8)\n",
            "Requirement already satisfied: h5py in /usr/local/lib/python3.11/dist-packages (from keras>=3.2.0->scikeras) (3.12.1)\n",
            "Requirement already satisfied: optree in /usr/local/lib/python3.11/dist-packages (from keras>=3.2.0->scikeras) (0.14.0)\n",
            "Requirement already satisfied: ml-dtypes in /usr/local/lib/python3.11/dist-packages (from keras>=3.2.0->scikeras) (0.4.1)\n",
            "Requirement already satisfied: packaging in /usr/local/lib/python3.11/dist-packages (from keras>=3.2.0->scikeras) (24.2)\n",
            "Requirement already satisfied: scipy>=1.6.0 in /usr/local/lib/python3.11/dist-packages (from scikit-learn>=1.4.2->scikeras) (1.13.1)\n",
            "Requirement already satisfied: joblib>=1.2.0 in /usr/local/lib/python3.11/dist-packages (from scikit-learn>=1.4.2->scikeras) (1.4.2)\n",
            "Requirement already satisfied: threadpoolctl>=3.1.0 in /usr/local/lib/python3.11/dist-packages (from scikit-learn>=1.4.2->scikeras) (3.5.0)\n",
            "Requirement already satisfied: typing-extensions>=4.5.0 in /usr/local/lib/python3.11/dist-packages (from optree->keras>=3.2.0->scikeras) (4.12.2)\n",
            "Requirement already satisfied: markdown-it-py>=2.2.0 in /usr/local/lib/python3.11/dist-packages (from rich->keras>=3.2.0->scikeras) (3.0.0)\n",
            "Requirement already satisfied: pygments<3.0.0,>=2.13.0 in /usr/local/lib/python3.11/dist-packages (from rich->keras>=3.2.0->scikeras) (2.18.0)\n",
            "Requirement already satisfied: mdurl~=0.1 in /usr/local/lib/python3.11/dist-packages (from markdown-it-py>=2.2.0->rich->keras>=3.2.0->scikeras) (0.1.2)\n",
            "Using cached scikit_learn-1.6.1-cp311-cp311-manylinux_2_17_x86_64.manylinux2014_x86_64.whl (13.5 MB)\n",
            "Installing collected packages: scikit-learn\n",
            "  Attempting uninstall: scikit-learn\n",
            "    Found existing installation: scikit-learn 1.3.1\n",
            "    Uninstalling scikit-learn-1.3.1:\n",
            "      Successfully uninstalled scikit-learn-1.3.1\n",
            "Successfully installed scikit-learn-1.6.1\n"
          ]
        }
      ]
    },
    {
      "cell_type": "code",
      "source": [
        "from scikeras.wrappers import KerasClassifier\n",
        "from sklearn.model_selection import RandomizedSearchCV"
      ],
      "metadata": {
        "id": "gPUcR6sVtqDQ"
      },
      "id": "gPUcR6sVtqDQ",
      "execution_count": null,
      "outputs": []
    },
    {
      "cell_type": "code",
      "source": [
        "model_new = KerasClassifier(\n",
        "    model=create_model,\n",
        "    optimizer='adam', # Provide default values here\n",
        "    n_neurons=32,\n",
        "    hidden_activation='relu',\n",
        "    epochs=10,\n",
        "    # batch_size=32,\n",
        "    verbose=0\n",
        ")"
      ],
      "metadata": {
        "id": "rnQcNAepRmJO"
      },
      "id": "rnQcNAepRmJO",
      "execution_count": null,
      "outputs": []
    },
    {
      "cell_type": "markdown",
      "source": [
        "#### Training the model"
      ],
      "metadata": {
        "id": "QxPI9Wrhag4A"
      },
      "id": "QxPI9Wrhag4A"
    },
    {
      "cell_type": "code",
      "source": [
        "model = create_model()"
      ],
      "metadata": {
        "id": "QxkafyzLcRGk",
        "colab": {
          "base_uri": "https://localhost:8080/"
        },
        "outputId": "063e6fdc-e716-4244-e205-24bdc0b2ff12"
      },
      "id": "QxkafyzLcRGk",
      "execution_count": null,
      "outputs": [
        {
          "output_type": "stream",
          "name": "stderr",
          "text": [
            "/usr/local/lib/python3.11/dist-packages/keras/src/layers/core/dense.py:87: UserWarning: Do not pass an `input_shape`/`input_dim` argument to a layer. When using Sequential models, prefer using an `Input(shape)` object as the first layer in the model instead.\n",
            "  super().__init__(activity_regularizer=activity_regularizer, **kwargs)\n"
          ]
        }
      ]
    },
    {
      "cell_type": "code",
      "source": [
        "model.fit(X_flattened, y_train, epochs=10, batch_size=32)"
      ],
      "metadata": {
        "collapsed": true,
        "id": "pv05FXa4Wz36",
        "colab": {
          "base_uri": "https://localhost:8080/"
        },
        "outputId": "d82b7e41-c0bf-4745-884d-fa589e3f1c26"
      },
      "id": "pv05FXa4Wz36",
      "execution_count": null,
      "outputs": [
        {
          "output_type": "stream",
          "name": "stdout",
          "text": [
            "Epoch 1/10\n",
            "\u001b[1m31/31\u001b[0m \u001b[32m━━━━━━━━━━━━━━━━━━━━\u001b[0m\u001b[37m\u001b[0m \u001b[1m3s\u001b[0m 32ms/step - accuracy: 0.0392 - loss: 3.6969\n",
            "Epoch 2/10\n",
            "\u001b[1m31/31\u001b[0m \u001b[32m━━━━━━━━━━━━━━━━━━━━\u001b[0m\u001b[37m\u001b[0m \u001b[1m0s\u001b[0m 3ms/step - accuracy: 0.1098 - loss: 3.3839\n",
            "Epoch 3/10\n",
            "\u001b[1m31/31\u001b[0m \u001b[32m━━━━━━━━━━━━━━━━━━━━\u001b[0m\u001b[37m\u001b[0m \u001b[1m0s\u001b[0m 3ms/step - accuracy: 0.2210 - loss: 3.0982\n",
            "Epoch 4/10\n",
            "\u001b[1m31/31\u001b[0m \u001b[32m━━━━━━━━━━━━━━━━━━━━\u001b[0m\u001b[37m\u001b[0m \u001b[1m0s\u001b[0m 3ms/step - accuracy: 0.2855 - loss: 2.7503\n",
            "Epoch 5/10\n",
            "\u001b[1m31/31\u001b[0m \u001b[32m━━━━━━━━━━━━━━━━━━━━\u001b[0m\u001b[37m\u001b[0m \u001b[1m0s\u001b[0m 3ms/step - accuracy: 0.3352 - loss: 2.5318\n",
            "Epoch 6/10\n",
            "\u001b[1m31/31\u001b[0m \u001b[32m━━━━━━━━━━━━━━━━━━━━\u001b[0m\u001b[37m\u001b[0m \u001b[1m0s\u001b[0m 4ms/step - accuracy: 0.4171 - loss: 2.3191\n",
            "Epoch 7/10\n",
            "\u001b[1m31/31\u001b[0m \u001b[32m━━━━━━━━━━━━━━━━━━━━\u001b[0m\u001b[37m\u001b[0m \u001b[1m0s\u001b[0m 4ms/step - accuracy: 0.4352 - loss: 2.2255\n",
            "Epoch 8/10\n",
            "\u001b[1m31/31\u001b[0m \u001b[32m━━━━━━━━━━━━━━━━━━━━\u001b[0m\u001b[37m\u001b[0m \u001b[1m0s\u001b[0m 5ms/step - accuracy: 0.4181 - loss: 2.0221\n",
            "Epoch 9/10\n",
            "\u001b[1m31/31\u001b[0m \u001b[32m━━━━━━━━━━━━━━━━━━━━\u001b[0m\u001b[37m\u001b[0m \u001b[1m0s\u001b[0m 5ms/step - accuracy: 0.4704 - loss: 1.9071\n",
            "Epoch 10/10\n",
            "\u001b[1m31/31\u001b[0m \u001b[32m━━━━━━━━━━━━━━━━━━━━\u001b[0m\u001b[37m\u001b[0m \u001b[1m0s\u001b[0m 5ms/step - accuracy: 0.4978 - loss: 1.7155\n"
          ]
        },
        {
          "output_type": "execute_result",
          "data": {
            "text/plain": [
              "<keras.src.callbacks.history.History at 0x7c3d04a76510>"
            ]
          },
          "metadata": {},
          "execution_count": 33
        }
      ]
    },
    {
      "cell_type": "markdown",
      "source": [
        "#### Evaluating the model"
      ],
      "metadata": {
        "id": "FuWoahDFakVB"
      },
      "id": "FuWoahDFakVB"
    },
    {
      "cell_type": "code",
      "source": [
        "# Evaluate the model on the test set\n",
        "loss, accuracy = model.evaluate(X_test_flattened, y_test, verbose=1)\n",
        "\n",
        "# Print the results\n",
        "print(f\"Test Loss: {loss}\")\n",
        "print(f\"Test Accuracy: {accuracy}\")"
      ],
      "metadata": {
        "id": "1_gZHr3eY90Y",
        "colab": {
          "base_uri": "https://localhost:8080/"
        },
        "outputId": "b13273b1-1f45-4ffa-e6fc-3ab987a82874"
      },
      "id": "1_gZHr3eY90Y",
      "execution_count": null,
      "outputs": [
        {
          "output_type": "stream",
          "name": "stdout",
          "text": [
            "\u001b[1m8/8\u001b[0m \u001b[32m━━━━━━━━━━━━━━━━━━━━\u001b[0m\u001b[37m\u001b[0m \u001b[1m1s\u001b[0m 119ms/step - accuracy: 0.4456 - loss: 2.2583\n",
            "Test Loss: 1.9869465827941895\n",
            "Test Accuracy: 0.49794238805770874\n"
          ]
        }
      ]
    },
    {
      "cell_type": "markdown",
      "source": [
        "#### Using the Grid search with hyperparametrs"
      ],
      "metadata": {
        "id": "HwPgg-cSbJEL"
      },
      "id": "HwPgg-cSbJEL"
    },
    {
      "cell_type": "code",
      "source": [
        "# print(\"scikit-learn version:\", sklearn.__version__)\n",
        "# print(\"scikeras version:\", scikeras.__version__)\n",
        "# print(\"TensorFlow version:\", tf.__version__)"
      ],
      "metadata": {
        "collapsed": true,
        "id": "liMpK5emJ6X0"
      },
      "id": "liMpK5emJ6X0",
      "execution_count": null,
      "outputs": []
    },
    {
      "cell_type": "markdown",
      "source": [
        "#### Defining the KerasClassifier"
      ],
      "metadata": {
        "id": "CEopK7lqkI__"
      },
      "id": "CEopK7lqkI__"
    },
    {
      "cell_type": "code",
      "source": [
        "gs= GridSearchCV(estimator=model_new,param_grid=param_grid,scoring='accuracy',cv=2,\n",
        "                     n_jobs=-1,return_train_score=True,verbose=0)"
      ],
      "metadata": {
        "id": "bgc2EqsjTsiX"
      },
      "id": "bgc2EqsjTsiX",
      "execution_count": null,
      "outputs": []
    },
    {
      "cell_type": "code",
      "source": [
        "X_flattened.shape,y_train.shape"
      ],
      "metadata": {
        "id": "zB0mhJX2GL-e",
        "colab": {
          "base_uri": "https://localhost:8080/"
        },
        "outputId": "6fe5495c-9098-4cdb-c397-2093a156e349"
      },
      "id": "zB0mhJX2GL-e",
      "execution_count": null,
      "outputs": [
        {
          "output_type": "execute_result",
          "data": {
            "text/plain": [
              "((970, 2700), (970,))"
            ]
          },
          "metadata": {},
          "execution_count": 36
        }
      ]
    },
    {
      "cell_type": "code",
      "source": [
        "grid_result = gs.fit(X_flattened, y_train)"
      ],
      "metadata": {
        "id": "ca-gTcL0F-hh",
        "colab": {
          "base_uri": "https://localhost:8080/",
          "height": 287
        },
        "outputId": "15fb81a9-14d4-41db-b56d-d8b86afd3dd3"
      },
      "id": "ca-gTcL0F-hh",
      "execution_count": null,
      "outputs": [
        {
          "output_type": "error",
          "ename": "AttributeError",
          "evalue": "'super' object has no attribute '__sklearn_tags__'",
          "traceback": [
            "\u001b[0;31m---------------------------------------------------------------------------\u001b[0m",
            "\u001b[0;31mAttributeError\u001b[0m                            Traceback (most recent call last)",
            "\u001b[0;32m<ipython-input-37-1e797145f0b7>\u001b[0m in \u001b[0;36m<cell line: 0>\u001b[0;34m()\u001b[0m\n\u001b[0;32m----> 1\u001b[0;31m \u001b[0mgrid_result\u001b[0m \u001b[0;34m=\u001b[0m \u001b[0mgs\u001b[0m\u001b[0;34m.\u001b[0m\u001b[0mfit\u001b[0m\u001b[0;34m(\u001b[0m\u001b[0mX_flattened\u001b[0m\u001b[0;34m,\u001b[0m \u001b[0my_train\u001b[0m\u001b[0;34m)\u001b[0m\u001b[0;34m\u001b[0m\u001b[0;34m\u001b[0m\u001b[0m\n\u001b[0m",
            "\u001b[0;32m/usr/local/lib/python3.11/dist-packages/sklearn/base.py\u001b[0m in \u001b[0;36mwrapper\u001b[0;34m(estimator, *args, **kwargs)\u001b[0m\n\u001b[1;32m   1387\u001b[0m                 )\n\u001b[1;32m   1388\u001b[0m             ):\n\u001b[0;32m-> 1389\u001b[0;31m                 \u001b[0;32mreturn\u001b[0m \u001b[0mfit_method\u001b[0m\u001b[0;34m(\u001b[0m\u001b[0mestimator\u001b[0m\u001b[0;34m,\u001b[0m \u001b[0;34m*\u001b[0m\u001b[0margs\u001b[0m\u001b[0;34m,\u001b[0m \u001b[0;34m**\u001b[0m\u001b[0mkwargs\u001b[0m\u001b[0;34m)\u001b[0m\u001b[0;34m\u001b[0m\u001b[0;34m\u001b[0m\u001b[0m\n\u001b[0m\u001b[1;32m   1390\u001b[0m \u001b[0;34m\u001b[0m\u001b[0m\n\u001b[1;32m   1391\u001b[0m         \u001b[0;32mreturn\u001b[0m \u001b[0mwrapper\u001b[0m\u001b[0;34m\u001b[0m\u001b[0;34m\u001b[0m\u001b[0m\n",
            "\u001b[0;32m/usr/local/lib/python3.11/dist-packages/sklearn/model_selection/_search.py\u001b[0m in \u001b[0;36mfit\u001b[0;34m(self, X, y, **params)\u001b[0m\n\u001b[1;32m    931\u001b[0m         \u001b[0mrouted_params\u001b[0m \u001b[0;34m=\u001b[0m \u001b[0mself\u001b[0m\u001b[0;34m.\u001b[0m\u001b[0m_get_routed_params_for_fit\u001b[0m\u001b[0;34m(\u001b[0m\u001b[0mparams\u001b[0m\u001b[0;34m)\u001b[0m\u001b[0;34m\u001b[0m\u001b[0;34m\u001b[0m\u001b[0m\n\u001b[1;32m    932\u001b[0m \u001b[0;34m\u001b[0m\u001b[0m\n\u001b[0;32m--> 933\u001b[0;31m         \u001b[0mcv_orig\u001b[0m \u001b[0;34m=\u001b[0m \u001b[0mcheck_cv\u001b[0m\u001b[0;34m(\u001b[0m\u001b[0mself\u001b[0m\u001b[0;34m.\u001b[0m\u001b[0mcv\u001b[0m\u001b[0;34m,\u001b[0m \u001b[0my\u001b[0m\u001b[0;34m,\u001b[0m \u001b[0mclassifier\u001b[0m\u001b[0;34m=\u001b[0m\u001b[0mis_classifier\u001b[0m\u001b[0;34m(\u001b[0m\u001b[0mestimator\u001b[0m\u001b[0;34m)\u001b[0m\u001b[0;34m)\u001b[0m\u001b[0;34m\u001b[0m\u001b[0;34m\u001b[0m\u001b[0m\n\u001b[0m\u001b[1;32m    934\u001b[0m         \u001b[0mn_splits\u001b[0m \u001b[0;34m=\u001b[0m \u001b[0mcv_orig\u001b[0m\u001b[0;34m.\u001b[0m\u001b[0mget_n_splits\u001b[0m\u001b[0;34m(\u001b[0m\u001b[0mX\u001b[0m\u001b[0;34m,\u001b[0m \u001b[0my\u001b[0m\u001b[0;34m,\u001b[0m \u001b[0;34m**\u001b[0m\u001b[0mrouted_params\u001b[0m\u001b[0;34m.\u001b[0m\u001b[0msplitter\u001b[0m\u001b[0;34m.\u001b[0m\u001b[0msplit\u001b[0m\u001b[0;34m)\u001b[0m\u001b[0;34m\u001b[0m\u001b[0;34m\u001b[0m\u001b[0m\n\u001b[1;32m    935\u001b[0m \u001b[0;34m\u001b[0m\u001b[0m\n",
            "\u001b[0;32m/usr/local/lib/python3.11/dist-packages/sklearn/base.py\u001b[0m in \u001b[0;36mis_classifier\u001b[0;34m(estimator)\u001b[0m\n\u001b[1;32m   1235\u001b[0m         \u001b[0;32mreturn\u001b[0m \u001b[0mgetattr\u001b[0m\u001b[0;34m(\u001b[0m\u001b[0mestimator\u001b[0m\u001b[0;34m,\u001b[0m \u001b[0;34m\"_estimator_type\"\u001b[0m\u001b[0;34m,\u001b[0m \u001b[0;32mNone\u001b[0m\u001b[0;34m)\u001b[0m \u001b[0;34m==\u001b[0m \u001b[0;34m\"classifier\"\u001b[0m\u001b[0;34m\u001b[0m\u001b[0;34m\u001b[0m\u001b[0m\n\u001b[1;32m   1236\u001b[0m \u001b[0;34m\u001b[0m\u001b[0m\n\u001b[0;32m-> 1237\u001b[0;31m     \u001b[0;32mreturn\u001b[0m \u001b[0mget_tags\u001b[0m\u001b[0;34m(\u001b[0m\u001b[0mestimator\u001b[0m\u001b[0;34m)\u001b[0m\u001b[0;34m.\u001b[0m\u001b[0mestimator_type\u001b[0m \u001b[0;34m==\u001b[0m \u001b[0;34m\"classifier\"\u001b[0m\u001b[0;34m\u001b[0m\u001b[0;34m\u001b[0m\u001b[0m\n\u001b[0m\u001b[1;32m   1238\u001b[0m \u001b[0;34m\u001b[0m\u001b[0m\n\u001b[1;32m   1239\u001b[0m \u001b[0;34m\u001b[0m\u001b[0m\n",
            "\u001b[0;32m/usr/local/lib/python3.11/dist-packages/sklearn/utils/_tags.py\u001b[0m in \u001b[0;36mget_tags\u001b[0;34m(estimator)\u001b[0m\n\u001b[1;32m    428\u001b[0m         \u001b[0;32mfor\u001b[0m \u001b[0mklass\u001b[0m \u001b[0;32min\u001b[0m \u001b[0mreversed\u001b[0m\u001b[0;34m(\u001b[0m\u001b[0mtype\u001b[0m\u001b[0;34m(\u001b[0m\u001b[0mestimator\u001b[0m\u001b[0;34m)\u001b[0m\u001b[0;34m.\u001b[0m\u001b[0mmro\u001b[0m\u001b[0;34m(\u001b[0m\u001b[0;34m)\u001b[0m\u001b[0;34m)\u001b[0m\u001b[0;34m:\u001b[0m\u001b[0;34m\u001b[0m\u001b[0;34m\u001b[0m\u001b[0m\n\u001b[1;32m    429\u001b[0m             \u001b[0;32mif\u001b[0m \u001b[0;34m\"__sklearn_tags__\"\u001b[0m \u001b[0;32min\u001b[0m \u001b[0mvars\u001b[0m\u001b[0;34m(\u001b[0m\u001b[0mklass\u001b[0m\u001b[0;34m)\u001b[0m\u001b[0;34m:\u001b[0m\u001b[0;34m\u001b[0m\u001b[0;34m\u001b[0m\u001b[0m\n\u001b[0;32m--> 430\u001b[0;31m                 \u001b[0msklearn_tags_provider\u001b[0m\u001b[0;34m[\u001b[0m\u001b[0mklass\u001b[0m\u001b[0;34m]\u001b[0m \u001b[0;34m=\u001b[0m \u001b[0mklass\u001b[0m\u001b[0;34m.\u001b[0m\u001b[0m__sklearn_tags__\u001b[0m\u001b[0;34m(\u001b[0m\u001b[0mestimator\u001b[0m\u001b[0;34m)\u001b[0m  \u001b[0;31m# type: ignore[attr-defined]\u001b[0m\u001b[0;34m\u001b[0m\u001b[0;34m\u001b[0m\u001b[0m\n\u001b[0m\u001b[1;32m    431\u001b[0m                 \u001b[0mclass_order\u001b[0m\u001b[0;34m.\u001b[0m\u001b[0mappend\u001b[0m\u001b[0;34m(\u001b[0m\u001b[0mklass\u001b[0m\u001b[0;34m)\u001b[0m\u001b[0;34m\u001b[0m\u001b[0;34m\u001b[0m\u001b[0m\n\u001b[1;32m    432\u001b[0m             \u001b[0;32melif\u001b[0m \u001b[0;34m\"_more_tags\"\u001b[0m \u001b[0;32min\u001b[0m \u001b[0mvars\u001b[0m\u001b[0;34m(\u001b[0m\u001b[0mklass\u001b[0m\u001b[0;34m)\u001b[0m\u001b[0;34m:\u001b[0m\u001b[0;34m\u001b[0m\u001b[0;34m\u001b[0m\u001b[0m\n",
            "\u001b[0;32m/usr/local/lib/python3.11/dist-packages/sklearn/base.py\u001b[0m in \u001b[0;36m__sklearn_tags__\u001b[0;34m(self)\u001b[0m\n\u001b[1;32m    538\u001b[0m \u001b[0;34m\u001b[0m\u001b[0m\n\u001b[1;32m    539\u001b[0m     \u001b[0;32mdef\u001b[0m \u001b[0m__sklearn_tags__\u001b[0m\u001b[0;34m(\u001b[0m\u001b[0mself\u001b[0m\u001b[0;34m)\u001b[0m\u001b[0;34m:\u001b[0m\u001b[0;34m\u001b[0m\u001b[0;34m\u001b[0m\u001b[0m\n\u001b[0;32m--> 540\u001b[0;31m         \u001b[0mtags\u001b[0m \u001b[0;34m=\u001b[0m \u001b[0msuper\u001b[0m\u001b[0;34m(\u001b[0m\u001b[0;34m)\u001b[0m\u001b[0;34m.\u001b[0m\u001b[0m__sklearn_tags__\u001b[0m\u001b[0;34m(\u001b[0m\u001b[0;34m)\u001b[0m\u001b[0;34m\u001b[0m\u001b[0;34m\u001b[0m\u001b[0m\n\u001b[0m\u001b[1;32m    541\u001b[0m         \u001b[0mtags\u001b[0m\u001b[0;34m.\u001b[0m\u001b[0mestimator_type\u001b[0m \u001b[0;34m=\u001b[0m \u001b[0;34m\"classifier\"\u001b[0m\u001b[0;34m\u001b[0m\u001b[0;34m\u001b[0m\u001b[0m\n\u001b[1;32m    542\u001b[0m         \u001b[0mtags\u001b[0m\u001b[0;34m.\u001b[0m\u001b[0mclassifier_tags\u001b[0m \u001b[0;34m=\u001b[0m \u001b[0mClassifierTags\u001b[0m\u001b[0;34m(\u001b[0m\u001b[0;34m)\u001b[0m\u001b[0;34m\u001b[0m\u001b[0;34m\u001b[0m\u001b[0m\n",
            "\u001b[0;31mAttributeError\u001b[0m: 'super' object has no attribute '__sklearn_tags__'"
          ]
        }
      ]
    },
    {
      "cell_type": "code",
      "source": [
        "print(\"Best Parameters:\", grid_result.best_params_)\n",
        "print(\"Best Accuracy:\", grid_result.best_score_)"
      ],
      "metadata": {
        "id": "b_4lLnNRjHcb"
      },
      "id": "b_4lLnNRjHcb",
      "execution_count": null,
      "outputs": []
    },
    {
      "cell_type": "code",
      "source": [
        "X_test_flattened.shape"
      ],
      "metadata": {
        "id": "KZWZr9WFjjYz"
      },
      "id": "KZWZr9WFjjYz",
      "execution_count": null,
      "outputs": []
    },
    {
      "cell_type": "code",
      "source": [
        "y_test.shape"
      ],
      "metadata": {
        "id": "CMVkrfasjnAj"
      },
      "id": "CMVkrfasjnAj",
      "execution_count": null,
      "outputs": []
    },
    {
      "cell_type": "code",
      "source": [
        "# Predict on test data using the best model found by GridSearchCV\n",
        "y_pred = gs.best_estimator_.predict(X_test_flattened)\n",
        "\n",
        "# Print predictions\n",
        "print(\"Predicted labels:\", y_pred)\n",
        "\n",
        "# Evaluate model performance\n",
        "# test_loss, test_acc =\n",
        "gs.best_estimator_.score(X_test_flattened, y_test)\n",
        "# print(f\"Test Loss: {test_loss:.4f}\")\n",
        "# print(f\"Test Accuracy: {test_acc:.4f}\")\n"
      ],
      "metadata": {
        "id": "-c3jvBkbiyyW",
        "colab": {
          "base_uri": "https://localhost:8080/",
          "height": 211
        },
        "outputId": "d264face-ae84-4ce7-e5eb-de54804b237e"
      },
      "id": "-c3jvBkbiyyW",
      "execution_count": null,
      "outputs": [
        {
          "output_type": "error",
          "ename": "AttributeError",
          "evalue": "'GridSearchCV' object has no attribute 'best_estimator_'",
          "traceback": [
            "\u001b[0;31m---------------------------------------------------------------------------\u001b[0m",
            "\u001b[0;31mAttributeError\u001b[0m                            Traceback (most recent call last)",
            "\u001b[0;32m<ipython-input-38-0887cf38ac9d>\u001b[0m in \u001b[0;36m<cell line: 0>\u001b[0;34m()\u001b[0m\n\u001b[1;32m      1\u001b[0m \u001b[0;31m# Predict on test data using the best model found by GridSearchCV\u001b[0m\u001b[0;34m\u001b[0m\u001b[0;34m\u001b[0m\u001b[0m\n\u001b[0;32m----> 2\u001b[0;31m \u001b[0my_pred\u001b[0m \u001b[0;34m=\u001b[0m \u001b[0mgs\u001b[0m\u001b[0;34m.\u001b[0m\u001b[0mbest_estimator_\u001b[0m\u001b[0;34m.\u001b[0m\u001b[0mpredict\u001b[0m\u001b[0;34m(\u001b[0m\u001b[0mX_test_flattened\u001b[0m\u001b[0;34m)\u001b[0m\u001b[0;34m\u001b[0m\u001b[0;34m\u001b[0m\u001b[0m\n\u001b[0m\u001b[1;32m      3\u001b[0m \u001b[0;34m\u001b[0m\u001b[0m\n\u001b[1;32m      4\u001b[0m \u001b[0;31m# Print predictions\u001b[0m\u001b[0;34m\u001b[0m\u001b[0;34m\u001b[0m\u001b[0m\n\u001b[1;32m      5\u001b[0m \u001b[0mprint\u001b[0m\u001b[0;34m(\u001b[0m\u001b[0;34m\"Predicted labels:\"\u001b[0m\u001b[0;34m,\u001b[0m \u001b[0my_pred\u001b[0m\u001b[0;34m)\u001b[0m\u001b[0;34m\u001b[0m\u001b[0;34m\u001b[0m\u001b[0m\n",
            "\u001b[0;31mAttributeError\u001b[0m: 'GridSearchCV' object has no attribute 'best_estimator_'"
          ]
        }
      ]
    },
    {
      "cell_type": "markdown",
      "metadata": {
        "id": "911d0a39"
      },
      "source": [
        "#### Try the different algorithms and compare the results with MLP classifier"
      ],
      "id": "911d0a39"
    },
    {
      "cell_type": "code",
      "metadata": {
        "id": "08b0c234",
        "colab": {
          "base_uri": "https://localhost:8080/",
          "height": 265
        },
        "outputId": "2fe7905d-b7d7-41d2-84ad-9217862083e7"
      },
      "source": [
        "# YOUR CODE HERE\n",
        "mlp = MLPClassifier(hidden_layer_sizes=(128,64,32),activation=\"relu\",solver='adam', max_iter=200)\n",
        "mlp.fit(X_flattened, y_train)\n",
        "y_pred_mlp = mlp.predict(X_test_flattened)\n",
        "mlp_acc = accuracy_score(y_test, y_pred_mlp)\n",
        "\n",
        "print(\"MLP Classifier Accuracy:\", mlp_acc)"
      ],
      "id": "08b0c234",
      "execution_count": null,
      "outputs": [
        {
          "output_type": "stream",
          "name": "stderr",
          "text": [
            "/usr/local/lib/python3.11/dist-packages/sklearn/neural_network/_multilayer_perceptron.py:691: ConvergenceWarning: Stochastic Optimizer: Maximum iterations (200) reached and the optimization hasn't converged yet.\n",
            "  warnings.warn(\n"
          ]
        },
        {
          "output_type": "error",
          "ename": "NameError",
          "evalue": "name 'accuracy_score' is not defined",
          "traceback": [
            "\u001b[0;31m---------------------------------------------------------------------------\u001b[0m",
            "\u001b[0;31mNameError\u001b[0m                                 Traceback (most recent call last)",
            "\u001b[0;32m<ipython-input-39-2e2f8cda7665>\u001b[0m in \u001b[0;36m<cell line: 0>\u001b[0;34m()\u001b[0m\n\u001b[1;32m      3\u001b[0m \u001b[0mmlp\u001b[0m\u001b[0;34m.\u001b[0m\u001b[0mfit\u001b[0m\u001b[0;34m(\u001b[0m\u001b[0mX_flattened\u001b[0m\u001b[0;34m,\u001b[0m \u001b[0my_train\u001b[0m\u001b[0;34m)\u001b[0m\u001b[0;34m\u001b[0m\u001b[0;34m\u001b[0m\u001b[0m\n\u001b[1;32m      4\u001b[0m \u001b[0my_pred_mlp\u001b[0m \u001b[0;34m=\u001b[0m \u001b[0mmlp\u001b[0m\u001b[0;34m.\u001b[0m\u001b[0mpredict\u001b[0m\u001b[0;34m(\u001b[0m\u001b[0mX_test_flattened\u001b[0m\u001b[0;34m)\u001b[0m\u001b[0;34m\u001b[0m\u001b[0;34m\u001b[0m\u001b[0m\n\u001b[0;32m----> 5\u001b[0;31m \u001b[0mmlp_acc\u001b[0m \u001b[0;34m=\u001b[0m \u001b[0maccuracy_score\u001b[0m\u001b[0;34m(\u001b[0m\u001b[0my_test\u001b[0m\u001b[0;34m,\u001b[0m \u001b[0my_pred_mlp\u001b[0m\u001b[0;34m)\u001b[0m\u001b[0;34m\u001b[0m\u001b[0;34m\u001b[0m\u001b[0m\n\u001b[0m\u001b[1;32m      6\u001b[0m \u001b[0;34m\u001b[0m\u001b[0m\n\u001b[1;32m      7\u001b[0m \u001b[0mprint\u001b[0m\u001b[0;34m(\u001b[0m\u001b[0;34m\"MLP Classifier Accuracy:\"\u001b[0m\u001b[0;34m,\u001b[0m \u001b[0mmlp_acc\u001b[0m\u001b[0;34m)\u001b[0m\u001b[0;34m\u001b[0m\u001b[0;34m\u001b[0m\u001b[0m\n",
            "\u001b[0;31mNameError\u001b[0m: name 'accuracy_score' is not defined"
          ]
        }
      ]
    },
    {
      "cell_type": "code",
      "source": [
        "RandomForestClassifier?"
      ],
      "metadata": {
        "id": "5FPhRK-pdcYX"
      },
      "id": "5FPhRK-pdcYX",
      "execution_count": null,
      "outputs": []
    },
    {
      "cell_type": "code",
      "source": [
        "from sklearn.ensemble import RandomForestClassifier\n",
        "from sklearn.metrics import accuracy_score\n",
        "rf = RandomForestClassifier(n_estimators=100, max_depth=15, random_state=42)\n",
        "rf.fit(X_flattened, y_train)\n",
        "y_pred_rf = rf.predict(X_test_flattened)\n",
        "rf_acc = accuracy_score(y_test, y_pred_rf)\n",
        "\n",
        "print(\"Random Forest Classifier Accuracy:\", rf_acc)"
      ],
      "metadata": {
        "id": "AsUGy6qtZMxn",
        "colab": {
          "base_uri": "https://localhost:8080/"
        },
        "outputId": "4a336f53-9b09-458c-e708-0d06c15b3803"
      },
      "id": "AsUGy6qtZMxn",
      "execution_count": null,
      "outputs": [
        {
          "output_type": "stream",
          "name": "stdout",
          "text": [
            "Random Forest Classifier Accuracy: 0.6666666666666666\n"
          ]
        }
      ]
    },
    {
      "cell_type": "code",
      "source": [
        "# 4. Logistic Regression\n",
        "from sklearn.linear_model import LogisticRegression\n",
        "lr = LogisticRegression(max_iter=500)\n",
        "lr.fit(X_flattened, y_train)\n",
        "y_pred_lr = lr.predict(X_test_flattened)\n",
        "lr_acc = accuracy_score(y_test, y_pred_lr)\n",
        "print(\"Logistic Regression Accuracy:\", lr_acc)"
      ],
      "metadata": {
        "id": "GPMJ8k46cdTa",
        "colab": {
          "base_uri": "https://localhost:8080/"
        },
        "outputId": "bbf8c769-4aae-48bf-b46d-9fc2c7cb2c73"
      },
      "id": "GPMJ8k46cdTa",
      "execution_count": null,
      "outputs": [
        {
          "output_type": "stream",
          "name": "stdout",
          "text": [
            "Logistic Regression Accuracy: 0.8477366255144033\n"
          ]
        }
      ]
    },
    {
      "cell_type": "code",
      "source": [
        "XGBClassifier?"
      ],
      "metadata": {
        "id": "R1wkKcltm1cZ"
      },
      "id": "R1wkKcltm1cZ",
      "execution_count": null,
      "outputs": []
    },
    {
      "cell_type": "code",
      "source": [
        "try:\n",
        "    from xgboost import XGBClassifier\n",
        "    xgb = XGBClassifier(n_estimators=100,max_depth=15,learning_rate=0.01)\n",
        "    xgb.fit(X_flattened, y_train)\n",
        "    y_pred_xgb = xgb.predict(X_test_flattened)\n",
        "    xgb_acc = accuracy_score(y_test, y_pred_xgb)\n",
        "    print(\"XGBoost Classifier Accuracy:\", xgb_acc)\n",
        "except ImportError:\n",
        "    xgb_acc = None  # Skip XGBoost if not installed"
      ],
      "metadata": {
        "id": "UqJnKWa5mtb1",
        "colab": {
          "base_uri": "https://localhost:8080/"
        },
        "outputId": "e18c12f4-232b-4102-899a-3b5156b9375c"
      },
      "id": "UqJnKWa5mtb1",
      "execution_count": null,
      "outputs": [
        {
          "output_type": "stream",
          "name": "stdout",
          "text": [
            "XGBoost Classifier Accuracy: 0.6419753086419753\n"
          ]
        }
      ]
    },
    {
      "cell_type": "markdown",
      "metadata": {
        "id": "af9cd34e"
      },
      "source": [
        "### Implement simple Neural Networks using keras (3 points)\n",
        "\n",
        "* Define the keras model and initialize the layers\n",
        "  - Ensure the input layer has the right number of input features. This can be specified when creating the first layer with the input_dim argument.\n",
        "* Compile the model\n",
        "  - Specify the loss function (to evaluate a set of weights), the optimizer (is used to search through different weights for the network) and any optional metrics to collect and report during training.\n",
        "* Fit and Evaluate the model\n",
        "  - Fit the data by specifying epochs and evaluate the model"
      ],
      "id": "af9cd34e"
    },
    {
      "cell_type": "code",
      "metadata": {
        "id": "fcf8d025"
      },
      "source": [
        "print(tf.__version__)"
      ],
      "id": "fcf8d025",
      "execution_count": null,
      "outputs": []
    },
    {
      "cell_type": "code",
      "source": [
        "!pip -qq install livelossplot"
      ],
      "metadata": {
        "id": "T32hPJ0hwpVs"
      },
      "id": "T32hPJ0hwpVs",
      "execution_count": null,
      "outputs": []
    },
    {
      "cell_type": "code",
      "source": [
        "import livelossplot"
      ],
      "metadata": {
        "id": "19Q_RoCFw1Tz"
      },
      "id": "19Q_RoCFw1Tz",
      "execution_count": null,
      "outputs": []
    },
    {
      "cell_type": "code",
      "metadata": {
        "id": "1ecbe0db"
      },
      "source": [
        "# Step 1 - Build the architecture\n",
        "# YOUR CODE HERE\n",
        "\n",
        "model = Sequential()\n",
        "\n",
        "model.add(Dense(128, activation='relu', input_dim=X_flattened.shape[1]))\n",
        "model.add(BatchNormalization())\n",
        "model.add(Dropout(0.2))\n",
        "model.add(Dense(64, activation='relu'))\n",
        "model.add(BatchNormalization())\n",
        "model.add(Dropout(0.2))\n",
        "model.add(Dense(32, activation='relu'))\n",
        "model.add(BatchNormalization())\n",
        "model.add(Dropout(0.2))\n",
        "model.add(Dense(43, activation='softmax'))\n",
        "\n"
      ],
      "id": "1ecbe0db",
      "execution_count": null,
      "outputs": []
    },
    {
      "cell_type": "code",
      "metadata": {
        "id": "d4c7bc66"
      },
      "source": [
        "# Step 2 - Compile the model\n",
        "# YOUR CODE HERE\n",
        "model.compile(optimizer='adam', loss='sparse_categorical_crossentropy', metrics=['accuracy'])"
      ],
      "id": "d4c7bc66",
      "execution_count": null,
      "outputs": []
    },
    {
      "cell_type": "code",
      "metadata": {
        "id": "27Pltot4FsiG",
        "colab": {
          "base_uri": "https://localhost:8080/",
          "height": 1000
        },
        "outputId": "59ca66f4-8175-4052-d565-1c316c52cfa8"
      },
      "source": [
        "# Step 3 - Fit and Evaluate the model\n",
        "# YOUR CODE HERE\n",
        "plot_losses = livelossplot.PlotLossesKeras()\n",
        "\n",
        "model.fit(X_flattened, y_train, epochs=10, batch_size=24, verbose=1, validation_split=0.2,callbacks=[plot_losses])"
      ],
      "id": "27Pltot4FsiG",
      "execution_count": null,
      "outputs": [
        {
          "output_type": "stream",
          "name": "stdout",
          "text": [
            "Epoch 1/10\n"
          ]
        },
        {
          "output_type": "error",
          "ename": "InternalError",
          "evalue": "Graph execution error:\n\nDetected at node StatefulPartitionedCall defined at (most recent call last):\n  File \"<frozen runpy>\", line 198, in _run_module_as_main\n\n  File \"<frozen runpy>\", line 88, in _run_code\n\n  File \"/usr/local/lib/python3.11/dist-packages/colab_kernel_launcher.py\", line 37, in <module>\n\n  File \"/usr/local/lib/python3.11/dist-packages/traitlets/config/application.py\", line 992, in launch_instance\n\n  File \"/usr/local/lib/python3.11/dist-packages/ipykernel/kernelapp.py\", line 619, in start\n\n  File \"/usr/local/lib/python3.11/dist-packages/tornado/platform/asyncio.py\", line 205, in start\n\n  File \"/usr/lib/python3.11/asyncio/base_events.py\", line 608, in run_forever\n\n  File \"/usr/lib/python3.11/asyncio/base_events.py\", line 1936, in _run_once\n\n  File \"/usr/lib/python3.11/asyncio/events.py\", line 84, in _run\n\n  File \"/usr/local/lib/python3.11/dist-packages/tornado/ioloop.py\", line 699, in <lambda>\n\n  File \"/usr/local/lib/python3.11/dist-packages/tornado/ioloop.py\", line 750, in _run_callback\n\n  File \"/usr/local/lib/python3.11/dist-packages/tornado/gen.py\", line 824, in inner\n\n  File \"/usr/local/lib/python3.11/dist-packages/tornado/gen.py\", line 785, in run\n\n  File \"/usr/local/lib/python3.11/dist-packages/ipykernel/kernelbase.py\", line 361, in process_one\n\n  File \"/usr/local/lib/python3.11/dist-packages/tornado/gen.py\", line 233, in wrapper\n\n  File \"/usr/local/lib/python3.11/dist-packages/ipykernel/kernelbase.py\", line 261, in dispatch_shell\n\n  File \"/usr/local/lib/python3.11/dist-packages/tornado/gen.py\", line 233, in wrapper\n\n  File \"/usr/local/lib/python3.11/dist-packages/ipykernel/kernelbase.py\", line 539, in execute_request\n\n  File \"/usr/local/lib/python3.11/dist-packages/tornado/gen.py\", line 233, in wrapper\n\n  File \"/usr/local/lib/python3.11/dist-packages/ipykernel/ipkernel.py\", line 302, in do_execute\n\n  File \"/usr/local/lib/python3.11/dist-packages/ipykernel/zmqshell.py\", line 539, in run_cell\n\n  File \"/usr/local/lib/python3.11/dist-packages/IPython/core/interactiveshell.py\", line 2975, in run_cell\n\n  File \"/usr/local/lib/python3.11/dist-packages/IPython/core/interactiveshell.py\", line 3030, in _run_cell\n\n  File \"/usr/local/lib/python3.11/dist-packages/IPython/core/async_helpers.py\", line 78, in _pseudo_sync_runner\n\n  File \"/usr/local/lib/python3.11/dist-packages/IPython/core/interactiveshell.py\", line 3257, in run_cell_async\n\n  File \"/usr/local/lib/python3.11/dist-packages/IPython/core/interactiveshell.py\", line 3473, in run_ast_nodes\n\n  File \"/usr/local/lib/python3.11/dist-packages/IPython/core/interactiveshell.py\", line 3553, in run_code\n\n  File \"<ipython-input-54-b3aeb793c17d>\", line 5, in <cell line: 0>\n\n  File \"/usr/local/lib/python3.11/dist-packages/keras/src/utils/traceback_utils.py\", line 117, in error_handler\n\n  File \"/usr/local/lib/python3.11/dist-packages/keras/src/backend/tensorflow/trainer.py\", line 371, in fit\n\n  File \"/usr/local/lib/python3.11/dist-packages/keras/src/backend/tensorflow/trainer.py\", line 219, in function\n\n  File \"/usr/local/lib/python3.11/dist-packages/keras/src/backend/tensorflow/trainer.py\", line 132, in multi_step_on_iterator\n\nptxas exited with non-zero error code 2, output: : If the error message indicates that a file could not be written, please verify that sufficient filesystem space is provided.\n\t [[{{node StatefulPartitionedCall}}]] [Op:__inference_multi_step_on_iterator_13203]",
          "traceback": [
            "\u001b[0;31m---------------------------------------------------------------------------\u001b[0m",
            "\u001b[0;31mInternalError\u001b[0m                             Traceback (most recent call last)",
            "\u001b[0;32m<ipython-input-54-b3aeb793c17d>\u001b[0m in \u001b[0;36m<cell line: 0>\u001b[0;34m()\u001b[0m\n\u001b[1;32m      3\u001b[0m \u001b[0mplot_losses\u001b[0m \u001b[0;34m=\u001b[0m \u001b[0mlivelossplot\u001b[0m\u001b[0;34m.\u001b[0m\u001b[0mPlotLossesKeras\u001b[0m\u001b[0;34m(\u001b[0m\u001b[0;34m)\u001b[0m\u001b[0;34m\u001b[0m\u001b[0;34m\u001b[0m\u001b[0m\n\u001b[1;32m      4\u001b[0m \u001b[0;34m\u001b[0m\u001b[0m\n\u001b[0;32m----> 5\u001b[0;31m \u001b[0mmodel\u001b[0m\u001b[0;34m.\u001b[0m\u001b[0mfit\u001b[0m\u001b[0;34m(\u001b[0m\u001b[0mX_flattened\u001b[0m\u001b[0;34m,\u001b[0m \u001b[0my_train\u001b[0m\u001b[0;34m,\u001b[0m \u001b[0mepochs\u001b[0m\u001b[0;34m=\u001b[0m\u001b[0;36m10\u001b[0m\u001b[0;34m,\u001b[0m \u001b[0mbatch_size\u001b[0m\u001b[0;34m=\u001b[0m\u001b[0;36m24\u001b[0m\u001b[0;34m,\u001b[0m \u001b[0mverbose\u001b[0m\u001b[0;34m=\u001b[0m\u001b[0;36m1\u001b[0m\u001b[0;34m,\u001b[0m \u001b[0mvalidation_split\u001b[0m\u001b[0;34m=\u001b[0m\u001b[0;36m0.2\u001b[0m\u001b[0;34m,\u001b[0m\u001b[0mcallbacks\u001b[0m\u001b[0;34m=\u001b[0m\u001b[0;34m[\u001b[0m\u001b[0mplot_losses\u001b[0m\u001b[0;34m]\u001b[0m\u001b[0;34m)\u001b[0m\u001b[0;34m\u001b[0m\u001b[0;34m\u001b[0m\u001b[0m\n\u001b[0m",
            "\u001b[0;32m/usr/local/lib/python3.11/dist-packages/keras/src/utils/traceback_utils.py\u001b[0m in \u001b[0;36merror_handler\u001b[0;34m(*args, **kwargs)\u001b[0m\n\u001b[1;32m    120\u001b[0m             \u001b[0;31m# To get the full stack trace, call:\u001b[0m\u001b[0;34m\u001b[0m\u001b[0;34m\u001b[0m\u001b[0m\n\u001b[1;32m    121\u001b[0m             \u001b[0;31m# `keras.config.disable_traceback_filtering()`\u001b[0m\u001b[0;34m\u001b[0m\u001b[0;34m\u001b[0m\u001b[0m\n\u001b[0;32m--> 122\u001b[0;31m             \u001b[0;32mraise\u001b[0m \u001b[0me\u001b[0m\u001b[0;34m.\u001b[0m\u001b[0mwith_traceback\u001b[0m\u001b[0;34m(\u001b[0m\u001b[0mfiltered_tb\u001b[0m\u001b[0;34m)\u001b[0m \u001b[0;32mfrom\u001b[0m \u001b[0;32mNone\u001b[0m\u001b[0;34m\u001b[0m\u001b[0;34m\u001b[0m\u001b[0m\n\u001b[0m\u001b[1;32m    123\u001b[0m         \u001b[0;32mfinally\u001b[0m\u001b[0;34m:\u001b[0m\u001b[0;34m\u001b[0m\u001b[0;34m\u001b[0m\u001b[0m\n\u001b[1;32m    124\u001b[0m             \u001b[0;32mdel\u001b[0m \u001b[0mfiltered_tb\u001b[0m\u001b[0;34m\u001b[0m\u001b[0;34m\u001b[0m\u001b[0m\n",
            "\u001b[0;32m/usr/local/lib/python3.11/dist-packages/tensorflow/python/eager/execute.py\u001b[0m in \u001b[0;36mquick_execute\u001b[0;34m(op_name, num_outputs, inputs, attrs, ctx, name)\u001b[0m\n\u001b[1;32m     57\u001b[0m       \u001b[0me\u001b[0m\u001b[0;34m.\u001b[0m\u001b[0mmessage\u001b[0m \u001b[0;34m+=\u001b[0m \u001b[0;34m\" name: \"\u001b[0m \u001b[0;34m+\u001b[0m \u001b[0mname\u001b[0m\u001b[0;34m\u001b[0m\u001b[0;34m\u001b[0m\u001b[0m\n\u001b[1;32m     58\u001b[0m     \u001b[0;32mraise\u001b[0m \u001b[0mcore\u001b[0m\u001b[0;34m.\u001b[0m\u001b[0m_status_to_exception\u001b[0m\u001b[0;34m(\u001b[0m\u001b[0me\u001b[0m\u001b[0;34m)\u001b[0m \u001b[0;32mfrom\u001b[0m \u001b[0;32mNone\u001b[0m\u001b[0;34m\u001b[0m\u001b[0;34m\u001b[0m\u001b[0m\n\u001b[0;32m---> 59\u001b[0;31m   \u001b[0;32mexcept\u001b[0m \u001b[0mTypeError\u001b[0m \u001b[0;32mas\u001b[0m \u001b[0me\u001b[0m\u001b[0;34m:\u001b[0m\u001b[0;34m\u001b[0m\u001b[0;34m\u001b[0m\u001b[0m\n\u001b[0m\u001b[1;32m     60\u001b[0m     \u001b[0mkeras_symbolic_tensors\u001b[0m \u001b[0;34m=\u001b[0m \u001b[0;34m[\u001b[0m\u001b[0mx\u001b[0m \u001b[0;32mfor\u001b[0m \u001b[0mx\u001b[0m \u001b[0;32min\u001b[0m \u001b[0minputs\u001b[0m \u001b[0;32mif\u001b[0m \u001b[0m_is_keras_symbolic_tensor\u001b[0m\u001b[0;34m(\u001b[0m\u001b[0mx\u001b[0m\u001b[0;34m)\u001b[0m\u001b[0;34m]\u001b[0m\u001b[0;34m\u001b[0m\u001b[0;34m\u001b[0m\u001b[0m\n\u001b[1;32m     61\u001b[0m     \u001b[0;32mif\u001b[0m \u001b[0mkeras_symbolic_tensors\u001b[0m\u001b[0;34m:\u001b[0m\u001b[0;34m\u001b[0m\u001b[0;34m\u001b[0m\u001b[0m\n",
            "\u001b[0;31mInternalError\u001b[0m: Graph execution error:\n\nDetected at node StatefulPartitionedCall defined at (most recent call last):\n  File \"<frozen runpy>\", line 198, in _run_module_as_main\n\n  File \"<frozen runpy>\", line 88, in _run_code\n\n  File \"/usr/local/lib/python3.11/dist-packages/colab_kernel_launcher.py\", line 37, in <module>\n\n  File \"/usr/local/lib/python3.11/dist-packages/traitlets/config/application.py\", line 992, in launch_instance\n\n  File \"/usr/local/lib/python3.11/dist-packages/ipykernel/kernelapp.py\", line 619, in start\n\n  File \"/usr/local/lib/python3.11/dist-packages/tornado/platform/asyncio.py\", line 205, in start\n\n  File \"/usr/lib/python3.11/asyncio/base_events.py\", line 608, in run_forever\n\n  File \"/usr/lib/python3.11/asyncio/base_events.py\", line 1936, in _run_once\n\n  File \"/usr/lib/python3.11/asyncio/events.py\", line 84, in _run\n\n  File \"/usr/local/lib/python3.11/dist-packages/tornado/ioloop.py\", line 699, in <lambda>\n\n  File \"/usr/local/lib/python3.11/dist-packages/tornado/ioloop.py\", line 750, in _run_callback\n\n  File \"/usr/local/lib/python3.11/dist-packages/tornado/gen.py\", line 824, in inner\n\n  File \"/usr/local/lib/python3.11/dist-packages/tornado/gen.py\", line 785, in run\n\n  File \"/usr/local/lib/python3.11/dist-packages/ipykernel/kernelbase.py\", line 361, in process_one\n\n  File \"/usr/local/lib/python3.11/dist-packages/tornado/gen.py\", line 233, in wrapper\n\n  File \"/usr/local/lib/python3.11/dist-packages/ipykernel/kernelbase.py\", line 261, in dispatch_shell\n\n  File \"/usr/local/lib/python3.11/dist-packages/tornado/gen.py\", line 233, in wrapper\n\n  File \"/usr/local/lib/python3.11/dist-packages/ipykernel/kernelbase.py\", line 539, in execute_request\n\n  File \"/usr/local/lib/python3.11/dist-packages/tornado/gen.py\", line 233, in wrapper\n\n  File \"/usr/local/lib/python3.11/dist-packages/ipykernel/ipkernel.py\", line 302, in do_execute\n\n  File \"/usr/local/lib/python3.11/dist-packages/ipykernel/zmqshell.py\", line 539, in run_cell\n\n  File \"/usr/local/lib/python3.11/dist-packages/IPython/core/interactiveshell.py\", line 2975, in run_cell\n\n  File \"/usr/local/lib/python3.11/dist-packages/IPython/core/interactiveshell.py\", line 3030, in _run_cell\n\n  File \"/usr/local/lib/python3.11/dist-packages/IPython/core/async_helpers.py\", line 78, in _pseudo_sync_runner\n\n  File \"/usr/local/lib/python3.11/dist-packages/IPython/core/interactiveshell.py\", line 3257, in run_cell_async\n\n  File \"/usr/local/lib/python3.11/dist-packages/IPython/core/interactiveshell.py\", line 3473, in run_ast_nodes\n\n  File \"/usr/local/lib/python3.11/dist-packages/IPython/core/interactiveshell.py\", line 3553, in run_code\n\n  File \"<ipython-input-54-b3aeb793c17d>\", line 5, in <cell line: 0>\n\n  File \"/usr/local/lib/python3.11/dist-packages/keras/src/utils/traceback_utils.py\", line 117, in error_handler\n\n  File \"/usr/local/lib/python3.11/dist-packages/keras/src/backend/tensorflow/trainer.py\", line 371, in fit\n\n  File \"/usr/local/lib/python3.11/dist-packages/keras/src/backend/tensorflow/trainer.py\", line 219, in function\n\n  File \"/usr/local/lib/python3.11/dist-packages/keras/src/backend/tensorflow/trainer.py\", line 132, in multi_step_on_iterator\n\nptxas exited with non-zero error code 2, output: : If the error message indicates that a file could not be written, please verify that sufficient filesystem space is provided.\n\t [[{{node StatefulPartitionedCall}}]] [Op:__inference_multi_step_on_iterator_13203]"
          ]
        }
      ]
    },
    {
      "cell_type": "markdown",
      "metadata": {
        "id": "cSUDO2lLmQJO"
      },
      "source": [
        "#### Try the same parameters used for MLP Classifier and build the keras model"
      ],
      "id": "cSUDO2lLmQJO"
    },
    {
      "cell_type": "code",
      "metadata": {
        "id": "1zNp5w4bvFz9",
        "colab": {
          "base_uri": "https://localhost:8080/"
        },
        "outputId": "f7320d2d-b13d-4f5c-e66b-6c6c7eecfad2"
      },
      "source": [
        "# YOUR CODE HERE\n",
        "from sklearn.metrics import accuracy_score\n",
        "mlp = MLPClassifier(hidden_layer_sizes=(128,64,32),activation=\"relu\",solver='adam', max_iter=200)\n",
        "mlp.fit(X_flattened, y_train)\n",
        "y_pred_mlp = mlp.predict(X_test_flattened)\n",
        "mlp_acc = accuracy_score(y_test, y_pred_mlp)\n",
        "\n",
        "print(\"MLP Classifier Accuracy:\", mlp_acc)"
      ],
      "id": "1zNp5w4bvFz9",
      "execution_count": null,
      "outputs": [
        {
          "output_type": "stream",
          "name": "stdout",
          "text": [
            "MLP Classifier Accuracy: 0.8518518518518519\n"
          ]
        },
        {
          "output_type": "stream",
          "name": "stderr",
          "text": [
            "/usr/local/lib/python3.11/dist-packages/sklearn/neural_network/_multilayer_perceptron.py:691: ConvergenceWarning: Stochastic Optimizer: Maximum iterations (200) reached and the optimization hasn't converged yet.\n",
            "  warnings.warn(\n"
          ]
        }
      ]
    },
    {
      "cell_type": "markdown",
      "metadata": {
        "id": "IAHzeVx_tImO"
      },
      "source": [
        "#### Experiment using Dropout, Regularization and Batch Normalization"
      ],
      "id": "IAHzeVx_tImO"
    },
    {
      "cell_type": "code",
      "metadata": {
        "id": "w34gbejXvLUs",
        "colab": {
          "base_uri": "https://localhost:8080/",
          "height": 963
        },
        "outputId": "0ee06688-c5f4-451d-a65c-f1c61e27c7dd"
      },
      "source": [
        "# YOUR CODE HERE\n",
        "\n",
        "from tensorflow.keras.regularizers import l2\n",
        "\n",
        "# Build a Keras Model\n",
        "def build_model():\n",
        "    model = Sequential([\n",
        "        Dense(128, kernel_regularizer=l2(0.0001)),\n",
        "        BatchNormalization(),\n",
        "        tf.keras.layers.ReLU(),\n",
        "        Dropout(0.3),\n",
        "\n",
        "        Dense(64, kernel_regularizer=l2(0.0001)),\n",
        "        BatchNormalization(),\n",
        "        tf.keras.layers.ReLU(),\n",
        "        Dropout(0.3),\n",
        "\n",
        "        Dense(43, activation=\"softmax\")\n",
        "    ])\n",
        "\n",
        "    model.compile(optimizer='adam', loss='sparse_categorical_crossentropy', metrics=['accuracy'])\n",
        "\n",
        "    return model\n",
        "\n",
        "# Train the Model\n",
        "model = build_model()\n",
        "\n",
        "\n",
        "history = model.fit(X_flattened, y_train, epochs=100, batch_size=24, verbose=1, validation_split=0.2,callbacks=[plot_losses])\n",
        "\n",
        "# Evaluate\n",
        "test_acc = model.evaluate(X_test_flattened, y_test)\n",
        "print(\"Keras Model Accuracy:\", test_acc)\n"
      ],
      "id": "w34gbejXvLUs",
      "execution_count": null,
      "outputs": [
        {
          "output_type": "display_data",
          "data": {
            "text/plain": [
              "<Figure size 1200x800 with 2 Axes>"
            ],
            "image/png": "[encoded data removed]"
          },
          "metadata": {}
        },
        {
          "output_type": "stream",
          "name": "stdout",
          "text": [
            "accuracy\n",
            "\ttraining         \t (min:    0.085, max:    0.905, cur:    0.876)\n",
            "\tvalidation       \t (min:    0.144, max:    0.861, cur:    0.830)\n",
            "Loss\n",
            "\ttraining         \t (min:    0.439, max:    3.807, cur:    0.508)\n",
            "\tvalidation       \t (min:    0.714, max:    3.795, cur:    1.032)\n",
            "\u001b[1m33/33\u001b[0m \u001b[32m━━━━━━━━━━━━━━━━━━━━\u001b[0m\u001b[37m\u001b[0m \u001b[1m1s\u001b[0m 27ms/step - accuracy: 0.8761 - loss: 0.4835 - val_accuracy: 0.8299 - val_loss: 1.0315\n",
            "\u001b[1m8/8\u001b[0m \u001b[32m━━━━━━━━━━━━━━━━━━━━\u001b[0m\u001b[37m\u001b[0m \u001b[1m0s\u001b[0m 7ms/step - accuracy: 0.8304 - loss: 0.8485 \n",
            "Keras Model Accuracy: [0.7706691026687622, 0.8395061492919922]\n"
          ]
        }
      ]
    },
    {
      "cell_type": "code",
      "source": [
        "from sklearn.metrics import confusion_matrix, ConfusionMatrixDisplay"
      ],
      "metadata": {
        "id": "F_DQI19z9rLo"
      },
      "id": "F_DQI19z9rLo",
      "execution_count": null,
      "outputs": []
    },
    {
      "cell_type": "code",
      "source": [
        "predictions = np.argmax(model.predict(X_test_flattened),axis=1)"
      ],
      "metadata": {
        "colab": {
          "base_uri": "https://localhost:8080/"
        },
        "id": "Sm4Vvu0T-z7N",
        "outputId": "d267692d-6214-467d-f557-69908194460b"
      },
      "id": "Sm4Vvu0T-z7N",
      "execution_count": null,
      "outputs": [
        {
          "output_type": "stream",
          "name": "stdout",
          "text": [
            "\u001b[1m8/8\u001b[0m \u001b[32m━━━━━━━━━━━━━━━━━━━━\u001b[0m\u001b[37m\u001b[0m \u001b[1m0s\u001b[0m 13ms/step\n"
          ]
        }
      ]
    },
    {
      "cell_type": "code",
      "source": [
        "cm = confusion_matrix(y_test,predictions,labels=np.unique(y_train))"
      ],
      "metadata": {
        "id": "UpqLlfOh9xH4"
      },
      "id": "UpqLlfOh9xH4",
      "execution_count": null,
      "outputs": []
    },
    {
      "cell_type": "code",
      "source": [
        "disp.plot?"
      ],
      "metadata": {
        "id": "Dx6K8zUO-X2k"
      },
      "id": "Dx6K8zUO-X2k",
      "execution_count": null,
      "outputs": []
    },
    {
      "cell_type": "code",
      "source": [
        "disp = ConfusionMatrixDisplay(confusion_matrix=cm,display_labels=np.unique(y_train))\n",
        "fig, ax = plt.subplots(figsize=(15, 10))\n",
        "disp.plot(cmap='Blues',ax=ax)  # You can change the colormap if needed\n",
        "\n",
        "\n",
        "# Show the plot\n",
        "plt.show()"
      ],
      "metadata": {
        "colab": {
          "base_uri": "https://localhost:8080/",
          "height": 855
        },
        "id": "doacM0DJ-G6x",
        "outputId": "0b4a3ca7-42eb-4a64-a8b0-b0e9c3501983"
      },
      "id": "doacM0DJ-G6x",
      "execution_count": null,
      "outputs": [
        {
          "output_type": "display_data",
          "data": {
            "text/plain": [
              "<Figure size 1500x1000 with 2 Axes>"
            ],
            "image/png": "[encoded data removed]"
          },
          "metadata": {}
        }
      ]
    },
    {
      "cell_type": "code",
      "source": [
        "np.argmax(model.predict(X_test_flattened),axis=1)"
      ],
      "metadata": {
        "colab": {
          "base_uri": "https://localhost:8080/"
        },
        "id": "6L0jqUhu4L_I",
        "outputId": "138d3af1-9b98-47a3-aa0f-d38180d71a9a"
      },
      "id": "6L0jqUhu4L_I",
      "execution_count": null,
      "outputs": [
        {
          "output_type": "stream",
          "name": "stdout",
          "text": [
            "\u001b[1m8/8\u001b[0m \u001b[32m━━━━━━━━━━━━━━━━━━━━\u001b[0m\u001b[37m\u001b[0m \u001b[1m0s\u001b[0m 20ms/step\n"
          ]
        },
        {
          "output_type": "execute_result",
          "data": {
            "text/plain": [
              "array([ 8,  6,  1, 12,  4,  0, 10,  2, 33, 42,  2, 33,  5,  5, 30,  8,  7,\n",
              "       12,  8, 12,  8,  5, 10,  6, 10,  4, 24, 38,  1, 12, 25, 10, 12,  9,\n",
              "       13,  8,  7, 38, 26,  8,  1, 35,  9, 17, 12, 11, 12, 25,  1, 12, 18,\n",
              "       13,  4, 42, 13, 36,  5,  1, 42, 10, 12,  1, 13,  4,  3, 38,  2, 13,\n",
              "       12, 10,  1,  1, 14,  1, 10, 15,  1,  5, 13, 17, 13, 38,  2, 26,  8,\n",
              "       26, 17, 13, 36,  1,  5,  2, 10, 12,  8,  5, 10,  5, 38,  1, 30, 16,\n",
              "       10,  4,  4,  4, 10,  7, 14,  2,  1, 12, 13, 38, 34,  3,  2, 10,  2,\n",
              "        3,  5, 14,  5,  8,  5, 13, 24,  2,  2,  9,  4, 13,  7,  8, 10,  8,\n",
              "        3, 13,  5, 10,  1,  5, 12, 12, 12, 10, 24, 38, 13,  5, 13, 11, 24,\n",
              "       13,  6, 38, 13,  5,  3,  2,  4, 11, 22, 38, 17, 10, 12, 30, 13,  8,\n",
              "        8, 38,  3, 38, 23, 25, 36, 12,  5, 41, 10,  6, 12, 11, 38, 12, 11,\n",
              "        4, 38, 12, 28, 25, 35, 22,  4, 12, 22, 13, 24, 10,  5, 11,  7,  4,\n",
              "        4, 26, 25, 35, 12,  1, 12, 13, 25,  4,  3, 17, 12, 13, 10,  1,  4,\n",
              "        8,  4, 12, 17,  4, 38, 18, 10,  4,  8,  8,  9,  4,  1, 11, 18, 10,\n",
              "        1, 32,  4,  7,  2])"
            ]
          },
          "metadata": {},
          "execution_count": 66
        }
      ]
    },
    {
      "cell_type": "code",
      "source": [
        "y_test"
      ],
      "metadata": {
        "colab": {
          "base_uri": "https://localhost:8080/"
        },
        "id": "LZSuTKSg86K3",
        "outputId": "7390b5e3-0abb-4b65-dfef-64883c87d84d"
      },
      "id": "LZSuTKSg86K3",
      "execution_count": null,
      "outputs": [
        {
          "output_type": "execute_result",
          "data": {
            "text/plain": [
              "array([ 8,  6,  1, 12,  4,  3, 10,  2, 33, 42,  2, 33,  3,  5, 30, 15,  7,\n",
              "       12,  8, 12,  8,  2, 10,  6, 10,  4, 21, 40,  1, 12, 25, 10, 12,  9,\n",
              "       13,  8,  7, 38, 22,  8,  1, 35,  9, 17, 28, 11, 12, 25,  1, 13, 27,\n",
              "       13,  4, 42, 13, 36,  5,  1, 38, 10, 12,  1, 13,  4,  3, 38,  2, 13,\n",
              "       13, 10,  2,  1, 14,  1, 42, 15,  1,  5, 13, 17, 13, 38,  2, 18,  8,\n",
              "       26, 17, 13, 36,  2,  1,  2, 10, 12,  8,  5, 10,  5, 38,  1, 28, 16,\n",
              "       10,  1,  1,  4, 10,  7, 14,  2,  2, 37, 13, 38, 34,  3,  2, 10,  2,\n",
              "        3,  5, 14,  5,  8,  5, 13, 25,  2,  2,  9,  4, 13,  7,  8, 10,  8,\n",
              "        3, 13,  5, 10,  2,  5, 12, 12, 12, 10, 27, 38, 13,  5, 13, 11, 22,\n",
              "       13,  6, 38, 13,  5,  3,  2,  0, 30, 22, 38, 17, 10, 12, 30, 13,  7,\n",
              "       17, 38,  3, 38, 23, 25, 36, 12,  5, 41, 10,  6, 12, 11, 38, 12, 11,\n",
              "        4, 38, 12, 29, 25, 35, 22,  4, 12, 22, 13, 23, 10,  5, 11,  7,  4,\n",
              "        7, 26, 25, 35, 12,  1, 12, 13, 25,  7,  3, 17, 12, 13, 26,  2,  4,\n",
              "        8,  4, 38, 17,  5, 38, 18, 10,  4,  8,  8,  9,  4,  1, 11, 18, 10,\n",
              "        1, 32,  1,  7,  2])"
            ]
          },
          "metadata": {},
          "execution_count": 62
        }
      ]
    },
    {
      "cell_type": "markdown",
      "metadata": {
        "id": "MhWaGRRfs7tv"
      },
      "source": [
        "### Report Analysis\n",
        "\n",
        "* According to the confusion matrix, for which sign were the maximum misclassifications observed? Comment on the misclassification, owing to similar appearing traffic signs, if any.\n",
        "* Comment on the performance of the MLP Classifier\n",
        "* Discuss the optimal number of layers, activation functions, optimizers etc. that yielded the best accuracy\n",
        "* Report on training time vs convergence"
      ],
      "id": "MhWaGRRfs7tv"
    },
    {
      "cell_type": "markdown",
      "metadata": {
        "id": "d4978243"
      },
      "source": [
        "Reference: J. Stallkamp, M. Schlipsing, J. Salmen, and C. Igel. The German Traffic Sign Recognition Benchmark: A multi-class classification competition. In Proceedings of the IEEE International Joint Conference on Neural Networks, pages 1453–1460. 2011."
      ],
      "id": "d4978243"
    }
  ]
}